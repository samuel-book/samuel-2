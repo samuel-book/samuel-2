{
 "cells": [
  {
   "cell_type": "markdown",
   "id": "a5146288-f77f-4e59-a69a-3973236d2566",
   "metadata": {},
   "source": [
    "# Testing of SAMueL-1 synthetic data: logistic regression model\n",
    "\n",
    "In this notebook we test sthe ability of synthetic data to train a logistic regression model that is tested on real data. Data comes from 5 stratified k-vold traing/test sets. Synthetic data is generated from each k-fold training set. It is tested using the matching test set (which is not used in production of the synthetic data)."
   ]
  },
  {
   "cell_type": "markdown",
   "id": "089df5c6-9e5b-40c1-bbcd-b34101e6c4d3",
   "metadata": {},
   "source": [
    "## Load packages"
   ]
  },
  {
   "cell_type": "code",
   "execution_count": 1,
   "id": "5b6d1465-36ad-48fd-9f5d-05f0feb33d7b",
   "metadata": {},
   "outputs": [],
   "source": [
    "# Turn warnings off to keep notebook tidy\n",
    "import warnings\n",
    "warnings.filterwarnings(\"ignore\")\n",
    "\n",
    "import os\n",
    "import matplotlib.pyplot as plt\n",
    "from matplotlib.lines import Line2D\n",
    "import numpy as np\n",
    "import pandas as pd\n",
    "\n",
    "from sklearn.preprocessing import StandardScaler\n",
    "from sklearn.linear_model import LogisticRegression\n",
    "from sklearn.metrics import auc\n",
    "from sklearn.metrics import roc_curve"
   ]
  },
  {
   "cell_type": "markdown",
   "id": "3110278f-c7ec-490d-a502-0a4e26c7a5bf",
   "metadata": {},
   "source": [
    "## Load data"
   ]
  },
  {
   "cell_type": "code",
   "execution_count": 2,
   "id": "03beb750-7c98-4076-8beb-f95b26c07d8d",
   "metadata": {},
   "outputs": [],
   "source": [
    "data_loc = './../data/sam_1/kfold_5fold/'\n",
    "\n",
    "train_data, test_data, synthetic_data = [], [], []\n",
    "\n",
    "for i in range(5):\n",
    "    train_data.append(pd.read_csv(f'{data_loc}train_{i}.csv'))\n",
    "    test_data.append(pd.read_csv(f'{data_loc}test_{i}.csv'))\n",
    "    #synthetic_data.append(pd.read_csv(f'{data_loc}synth_train_{i}.csv'))\n",
    "    synthetic_data.append(pd.read_csv(f'{data_loc}synthetic_{i}.csv'))"
   ]
  },
  {
   "cell_type": "markdown",
   "id": "586f6d12-73b0-4245-9589-05348f59d9e6",
   "metadata": {},
   "source": [
    "## Function to standardise data"
   ]
  },
  {
   "cell_type": "code",
   "execution_count": 3,
   "id": "8e7a2bca-d6f8-4ebc-a654-76a2f7754dc8",
   "metadata": {},
   "outputs": [],
   "source": [
    "def standardise_data(X_train, X_test):\n",
    "    \"\"\"\n",
    "    Converts all data to a similar scale.\n",
    "    Standardisation subtracts mean and divides by standard deviation\n",
    "    for each feature.\n",
    "    Standardised data will have a mena of 0 and standard deviation of 1.\n",
    "    The training data mean and standard deviation is used to standardise both\n",
    "    training and test set data.\n",
    "    \"\"\"\n",
    "    \n",
    "    # Initialise a new scaling object for normalising input data\n",
    "    sc = StandardScaler() \n",
    "\n",
    "    # Set up the scaler just on the training set\n",
    "    sc.fit(X_train)\n",
    "\n",
    "    # Apply the scaler to the training and test sets\n",
    "    train_std=sc.transform(X_train)\n",
    "    test_std=sc.transform(X_test)\n",
    "    \n",
    "    return train_std, test_std"
   ]
  },
  {
   "cell_type": "markdown",
   "id": "7f988bd2-513c-4293-8948-591c26d91c50",
   "metadata": {},
   "source": [
    "## Build model and make predictions\n",
    "\n",
    "For each of the k-fold sets, a model is built for each of real training data and synethetic data (generated based on that training set). The two models then predict probability of receiving thrombolysis for the matching k-fold test set."
   ]
  },
  {
   "cell_type": "code",
   "execution_count": 4,
   "id": "070106d8-5e3b-4100-bb53-84448bedf1f3",
   "metadata": {},
   "outputs": [],
   "source": [
    "# Set up lists \n",
    "observed_real = []\n",
    "predicted_proba_real = []\n",
    "predicted_real = []\n",
    "observed_synthetic = []\n",
    "predicted_proba_synthetic= []\n",
    "predicted_synthetic = []\n",
    "feature_weights_real = []\n",
    "feature_weights_synthetic = []\n",
    "\n",
    "# Loop through k folds\n",
    "for k_fold in range(5):\n",
    "        \n",
    "    # Get k fold split\n",
    "    train = train_data[k_fold]\n",
    "    test = test_data[k_fold]\n",
    "    synthetic = synthetic_data[k_fold]\n",
    "    \n",
    "    # Get X and y\n",
    "    X_train = train.drop('S2Thrombolysis', axis=1)\n",
    "    X_test = test.drop('S2Thrombolysis', axis=1)\n",
    "    X_synthetic = synthetic.drop('S2Thrombolysis', axis=1)\n",
    "    y_train = train['S2Thrombolysis']\n",
    "    y_test = test['S2Thrombolysis']\n",
    "    y_synthetic = synthetic['S2Thrombolysis']\n",
    "    \n",
    "    # One hot encode hospitals\n",
    "    X_train_hosp = pd.get_dummies(X_train['StrokeTeam'], prefix = 'team')\n",
    "    X_train = pd.concat([X_train, X_train_hosp], axis=1)\n",
    "    X_train.drop('StrokeTeam', axis=1, inplace=True)\n",
    "    X_test_hosp = pd.get_dummies(X_test['StrokeTeam'], prefix = 'team')\n",
    "    X_test = pd.concat([X_test, X_test_hosp], axis=1)\n",
    "    X_test.drop('StrokeTeam', axis=1, inplace=True)\n",
    "    X_synthetic_hosp = pd.get_dummies(X_synthetic['StrokeTeam'], prefix = 'team')\n",
    "    X_synthetic = pd.concat([X_synthetic, X_synthetic_hosp], axis=1)\n",
    "    X_synthetic.drop('StrokeTeam', axis=1, inplace=True)\n",
    "        \n",
    "    # Train and test using real data\n",
    "    \n",
    "    # Standardise X data\n",
    "    X_train_std, X_test_std = standardise_data(X_train, X_test)\n",
    "\n",
    "    # Define and Fit model\n",
    "    model = LogisticRegression(solver='lbfgs')\n",
    "    model.fit(X_train_std, y_train)\n",
    "    \n",
    "    # Get predicted probabilities\n",
    "    y_probs_real = model.predict_proba(X_test_std)[:,1]\n",
    "    observed_real.append(y_test)\n",
    "    predicted_proba_real.append(y_probs_real)\n",
    "    predicted_real.append(y_probs_real >= 0.5)\n",
    "\n",
    "    # Get feature weights\n",
    "    weights = model.coef_[0]\n",
    "    feature_weights_real.append(weights)\n",
    "    \n",
    "    # Train and test using synthetic data    \n",
    "    \n",
    "    # Standardise X data\n",
    "    X_train_std, X_test_std = standardise_data(X_synthetic, X_test)\n",
    "\n",
    "    # Define and Fit model\n",
    "    model = LogisticRegression(solver='lbfgs')\n",
    "    model.fit(X_train_std, y_synthetic)\n",
    "    \n",
    "    # Get feature weights\n",
    "    weights = model.coef_[0]\n",
    "    feature_weights_synthetic.append(weights)\n",
    "    \n",
    "    # Get predicted probabilities\n",
    "    y_probs_synthetic = model.predict_proba(X_test_std)[:,1]\n",
    "    observed_synthetic.append(y_test)\n",
    "    predicted_proba_synthetic.append(y_probs_synthetic)\n",
    "    predicted_synthetic.append(y_probs_synthetic >= 0.5)"
   ]
  },
  {
   "cell_type": "markdown",
   "id": "e29e073a-cdc2-4fcd-992f-91897cf80366",
   "metadata": {},
   "source": [
    "## Test accuracy"
   ]
  },
  {
   "cell_type": "code",
   "execution_count": 5,
   "id": "197aa481-a677-40cc-af38-9c2049f84908",
   "metadata": {},
   "outputs": [
    {
     "name": "stdout",
     "output_type": "stream",
     "text": [
      "Individual kfold results:\n",
      "    real  synthetic\n",
      "0  0.831      0.829\n",
      "1  0.835      0.833\n",
      "2  0.830      0.828\n",
      "3  0.833      0.831\n",
      "4  0.834      0.835\n",
      "\n",
      "Accuracy when model trained using real data:\n",
      "Mean = 0.833, SEM = 0.001\n",
      "\n",
      "Accuracy when model trained using synthetic data\n",
      "Mean = 0.831, SEM = 0.001\n"
     ]
    }
   ],
   "source": [
    "accuracy_real = []\n",
    "accuracy_synthetic = []\n",
    "for k_fold in range(5):\n",
    "    correct = predicted_real[k_fold] == test_data[k_fold]['S2Thrombolysis']\n",
    "    accuracy_real.append(correct.mean())\n",
    "    correct = predicted_synthetic[k_fold] == test_data[k_fold]['S2Thrombolysis']\n",
    "    accuracy_synthetic.append(correct.mean())\n",
    "\n",
    "real_mean = np.mean(accuracy_real)\n",
    "real_sem = np.std(accuracy_real)/(np.sqrt(5))\n",
    "synthetic_mean = np.mean(accuracy_synthetic)\n",
    "synthetic_sem = np.std(accuracy_synthetic)/(np.sqrt(5))\n",
    "\n",
    "results = pd.DataFrame()\n",
    "results['real'] = accuracy_real\n",
    "results['synthetic'] = accuracy_synthetic\n",
    "print ('Individual kfold results:')\n",
    "print (results.round(3))\n",
    "print ()        \n",
    "\n",
    "print ('Accuracy when model trained using real data:')\n",
    "print (f'Mean = {real_mean:0.3f}, SEM = {real_sem:0.3f}')\n",
    "print ()\n",
    "print ('Accuracy when model trained using synthetic data')\n",
    "print (f'Mean = {synthetic_mean:0.3f}, SEM = {synthetic_sem:0.3f}')"
   ]
  },
  {
   "cell_type": "markdown",
   "id": "6823cb3a-0856-4938-8c5f-1463d94d9323",
   "metadata": {},
   "source": [
    "## Compare feature weights\n",
    "\n",
    "Compare mean feature weights across 5 k-fold model fits."
   ]
  },
  {
   "cell_type": "code",
   "execution_count": 6,
   "id": "33dd1029-b41a-4b61-83f2-fde348d62fd4",
   "metadata": {},
   "outputs": [
    {
     "data": {
      "image/png": "[encoded data removed]",
      "text/plain": [
       "<Figure size 432x432 with 1 Axes>"
      ]
     },
     "metadata": {
      "needs_background": "light"
     },
     "output_type": "display_data"
    }
   ],
   "source": [
    "fig = plt.figure(figsize=(6,6))\n",
    "ax1 = fig.add_subplot(111)\n",
    "x = abs(np.mean(feature_weights_real, axis=0))\n",
    "y = abs(np.mean(feature_weights_synthetic, axis=0))\n",
    "ax1.scatter(x,y)\n",
    "ax1.set_xscale('log')\n",
    "ax1.set_yscale('log')\n",
    "ax1.set_xlim(1e-4, 1e2)\n",
    "ax1.set_ylim(1e-4, 1e2)\n",
    "ax1.plot([0, 100], [0, 100], color='darkblue', linestyle='--')\n",
    "ax1.grid()\n",
    "rsquare = np.corrcoef(x, y) ** 2 \n",
    "rsquare = rsquare[0,1]\n",
    "text = f'R-squared: {rsquare:0.3f}'\n",
    "ax1.text(1.7, 0.0003,text, bbox=dict(facecolor='white', edgecolor='black'))\n",
    "ax1.set_xlabel('Absolute feature weights based on real data')\n",
    "ax1.set_ylabel('Absolute feature weights based on synthetic data')\n",
    "plt.show()"
   ]
  },
  {
   "cell_type": "markdown",
   "id": "95ded81f-40ef-4f07-9eb2-f2901d9ce84d",
   "metadata": {},
   "source": [
    "## Receiver operator characteristic curve"
   ]
  },
  {
   "cell_type": "code",
   "execution_count": 7,
   "id": "23b77d53-284e-436d-b699-637db989041b",
   "metadata": {},
   "outputs": [
    {
     "name": "stdout",
     "output_type": "stream",
     "text": [
      "ROC AUC when model trained using real data:\n",
      "Mean = 0.904, SEM = 0.001\n",
      "\n",
      "ROC AUC when model trained using synthetic data\n",
      "Mean = 0.900, SEM = 0.001\n"
     ]
    }
   ],
   "source": [
    "fpr_real = []\n",
    "tpr_real = []\n",
    "auc_real = []\n",
    "fpr_synthetic = []\n",
    "tpr_synthetic = []\n",
    "auc_synthetic = []\n",
    "\n",
    "for k_fold in range(5):\n",
    "    y_test = test_data[k_fold]['S2Thrombolysis']\n",
    "    # real ROC\n",
    "    fpr, tpr, thresholds = roc_curve(y_test, predicted_proba_real[k_fold])\n",
    "    fpr_real.append(fpr)\n",
    "    tpr_real.append(tpr)\n",
    "    auc_real.append(auc(fpr, tpr))\n",
    "    \n",
    "    # Synthetic ROC\n",
    "    fpr, tpr, thresholds = roc_curve(y_test, predicted_proba_synthetic[k_fold])\n",
    "    fpr_synthetic.append(fpr)\n",
    "    tpr_synthetic.append(tpr)\n",
    "    auc_synthetic.append(auc(fpr, tpr))\n",
    "    \n",
    "auc_real_mean = np.mean(auc_real)\n",
    "auc_synthetic_mean = np.mean(auc_synthetic)\n",
    "auc_real_sem = np.std(auc_real)/(np.sqrt(5))\n",
    "auc_synthetic_sem = np.std(auc_synthetic)/(np.sqrt(5))\n",
    "\n",
    "print ('ROC AUC when model trained using real data:')\n",
    "print (f'Mean = {auc_real_mean:0.3f}, SEM = {auc_real_sem:0.3f}')\n",
    "print ()\n",
    "print ('ROC AUC when model trained using synthetic data')\n",
    "print (f'Mean = {auc_synthetic_mean:0.3f}, SEM = {auc_synthetic_sem:0.3f}')"
   ]
  },
  {
   "cell_type": "code",
   "execution_count": 8,
   "id": "5739e262-cd30-4df2-b93e-259d370bac6b",
   "metadata": {},
   "outputs": [
    {
     "data": {
      "image/png": "[encoded data removed]",
      "text/plain": [
       "<Figure size 432x432 with 1 Axes>"
      ]
     },
     "metadata": {
      "needs_background": "light"
     },
     "output_type": "display_data"
    }
   ],
   "source": [
    "fig = plt.figure(figsize=(6,6))\n",
    "\n",
    "# Plot ROC\n",
    "ax1 = fig.add_subplot()\n",
    "ax1.plot([0, 1], [0, 1], color='darkblue', linestyle='--')\n",
    "ax1.set_xlabel('False Positive Rate')\n",
    "ax1.set_ylabel('True Positive Rate')\n",
    "ax1.set_title('Receiver Operator Characteristic curves\\nfor models trained with real or synthetic data')\n",
    "\n",
    "for k in range(5):\n",
    "    ax1.plot(fpr_real[k],tpr_real[k], color='green', alpha = 0.6, \n",
    "             label = 'Real training data')\n",
    "    ax1.plot(fpr_synthetic[k],tpr_synthetic[k], color='red', linestyle='--', \n",
    "             alpha = 0.6, label = 'Synthetic training data')\n",
    "\n",
    "\n",
    "custom_lines = [Line2D([0], [0], color='green', alpha=0.6, lw=2),\n",
    "                Line2D([0], [0], color='red', linestyle='--', alpha = 0.6,lw=2)]\n",
    "\n",
    "plt.legend(custom_lines, \n",
    "           [f'Trained with real data (AUC: {auc_real_mean:.3f})',\n",
    "           f'Trained with synthetic data (AUC: {auc_synthetic_mean:.3f})'],\n",
    "          loc='lower right')\n",
    "\n",
    "plt.grid(True)\n",
    "\n",
    "plt.savefig('images/synthetic_roc_log_reg.png')\n",
    "plt.show()"
   ]
  }
 ],
 "metadata": {
  "kernelspec": {
   "display_name": "Python 3 (ipykernel)",
   "language": "python",
   "name": "python3"
  },
  "language_info": {
   "codemirror_mode": {
    "name": "ipython",
    "version": 3
   },
   "file_extension": ".py",
   "mimetype": "text/x-python",
   "name": "python",
   "nbconvert_exporter": "python",
   "pygments_lexer": "ipython3",
   "version": "3.8.12"
  }
 },
 "nbformat": 4,
 "nbformat_minor": 5
}
