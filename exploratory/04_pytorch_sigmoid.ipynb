{
 "cells": [
  {
   "cell_type": "markdown",
   "metadata": {},
   "source": [
    "## Load modules"
   ]
  },
  {
   "cell_type": "code",
   "execution_count": 1,
   "metadata": {},
   "outputs": [],
   "source": [
    "import json\n",
    "import matplotlib.pyplot as plt\n",
    "import numpy as np\n",
    "import os\n",
    "import pandas as pd\n",
    "\n",
    "# sklearn for pre-processing\n",
    "from sklearn.preprocessing import MinMaxScaler\n",
    "from sklearn.utils import shuffle\n",
    "\n",
    "import torch\n",
    "from torch.autograd import Variable\n",
    "import torch.nn.functional as F"
   ]
  },
  {
   "cell_type": "markdown",
   "metadata": {},
   "source": [
    "## Function to scale data (minmax scaling)"
   ]
  },
  {
   "cell_type": "code",
   "execution_count": 2,
   "metadata": {},
   "outputs": [],
   "source": [
    "def scale_data(X_train, X_test):\n",
    "    \"\"\"Scale data 0-1 based on min and max in training set\"\"\"\n",
    "    \n",
    "    # Initialise a new scaling object for normalising input data\n",
    "    sc = MinMaxScaler()\n",
    "\n",
    "    # Set up the scaler just on the training set\n",
    "    sc.fit(X_train)\n",
    "\n",
    "    # Apply the scaler to the training and test sets\n",
    "    train_sc = sc.transform(X_train)\n",
    "    test_sc = sc.transform(X_test)\n",
    "    \n",
    "    return train_sc, test_sc    "
   ]
  },
  {
   "cell_type": "markdown",
   "metadata": {},
   "source": [
    "## Create output folders if needed"
   ]
  },
  {
   "cell_type": "code",
   "execution_count": 3,
   "metadata": {},
   "outputs": [],
   "source": [
    "path = './output'\n",
    "if not os.path.exists(path):\n",
    "    os.makedirs(path)\n",
    "    \n",
    "path = './predictions'\n",
    "if not os.path.exists(path):\n",
    "    os.makedirs(path)"
   ]
  },
  {
   "cell_type": "code",
   "execution_count": 4,
   "metadata": {},
   "outputs": [],
   "source": [
    "with open(\"./output/feature_name_dict.json\") as json_file:\n",
    "    feature_name_dict = json.load(json_file)"
   ]
  },
  {
   "cell_type": "code",
   "execution_count": 5,
   "metadata": {},
   "outputs": [],
   "source": [
    "data_loc = '../data/sam_1/kfold_5fold/'"
   ]
  },
  {
   "cell_type": "code",
   "execution_count": 6,
   "metadata": {},
   "outputs": [],
   "source": [
    "# Initialise empty lists\n",
    "train_data, test_data = [], []\n",
    "\n",
    "# Read in the names of the selected features for the model\n",
    "number_of_features_to_use = 10\n",
    "key_features = pd.read_csv('./output/feature_selection.csv')\n",
    "key_features = list(key_features['feature'])[:number_of_features_to_use]\n",
    "# And add the target feature name: S2Thrombolysis\n",
    "key_features.append(\"S2Thrombolysis\")\n",
    "\n",
    "for i in range(5):\n",
    "    train = pd.read_csv(data_loc + 'train_{0}.csv'.format(i))\n",
    "    train = train[key_features]\n",
    "    train.rename(columns=feature_name_dict, inplace=True)\n",
    "    train_data.append(train)\n",
    "    test = pd.read_csv(data_loc + 'test_{0}.csv'.format(i))\n",
    "    test = test[key_features]\n",
    "    test.rename(columns=feature_name_dict, inplace=True)\n",
    "    test_data.append(test)"
   ]
  },
  {
   "cell_type": "code",
   "execution_count": 7,
   "metadata": {},
   "outputs": [],
   "source": [
    "class Net(torch.nn.Module):\n",
    "    \n",
    "    def __init__(self, number_features, expansion=2):\n",
    "        # Define layers\n",
    "        super(Net, self).__init__()\n",
    "        self.fc1 = torch.nn.Linear(number_features, number_features * expansion)\n",
    "        self.bn1 = torch.nn.BatchNorm1d(number_features * expansion)\n",
    "        self.fc2 = torch.nn.Linear(number_features * expansion, number_features * expansion)\n",
    "        self.bn2 = torch.nn.BatchNorm1d(number_features * expansion)\n",
    "        self.fc3 = torch.nn.Linear(number_features * expansion, 1)\n",
    "        \n",
    "    def forward(self, x):\n",
    "        # Define sequence of layers\n",
    "        x = self.fc1(x) # Fully connected layer\n",
    "        x = self.bn1(x) # Batch normalisation\n",
    "        x = F.dropout(x, p=0.5) # Apply dropout\n",
    "        x = F.relu(x) # ReLU activation\n",
    "        x = self.fc2(x) # Fully connected layer\n",
    "        x = self.bn2(x) # Batch normalisation\n",
    "        x = F.dropout(x, p=0.5) # Apply dropout\n",
    "        x = F.relu(x) # ReLU activation\n",
    "        x = self.fc3(x) # Fully connected layer\n",
    "        x = torch.sigmoid(x)\n",
    "        \n",
    "        return x"
   ]
  },
  {
   "cell_type": "code",
   "execution_count": 8,
   "metadata": {},
   "outputs": [],
   "source": [
    "if torch.cuda.is_available():\n",
    "    device = torch.device('cuda')\n",
    "else:\n",
    "    device = torch.device('cpu')"
   ]
  },
  {
   "cell_type": "code",
   "execution_count": 9,
   "metadata": {},
   "outputs": [
    {
     "name": "stdout",
     "output_type": "stream",
     "text": [
      "0 0.831, 0.824\n",
      "1 0.835, 0.827\n",
      "2 0.838, 0.830\n",
      "3 0.839, 0.832\n",
      "4 0.839, 0.831\n",
      "5 0.842, 0.834\n",
      "6 0.842, 0.833\n",
      "7 0.841, 0.833\n",
      "8 0.843, 0.833\n",
      "9 0.843, 0.833\n"
     ]
    }
   ],
   "source": [
    "use_hospital = True\n",
    "\n",
    "# Get k fold split\n",
    "train = train_data[0]\n",
    "test = test_data[0]\n",
    "\n",
    "# Get X and y\n",
    "X_train = train.drop(\"Thrombolysis\", axis=1)\n",
    "X_test = test.drop(\"Thrombolysis\", axis=1)\n",
    "y_train = train[\"Thrombolysis\"]\n",
    "y_test = test[\"Thrombolysis\"]\n",
    "\n",
    "if use_hospital:\n",
    "    # One hot encode hospitals\n",
    "    X_train_hosp = pd.get_dummies(X_train['Stroke team'], prefix = 'team')\n",
    "    X_train = pd.concat([X_train, X_train_hosp], axis=1)\n",
    "    X_train.drop('Stroke team', axis=1, inplace=True)\n",
    "    X_test_hosp = pd.get_dummies(X_test['Stroke team'], prefix = 'team')\n",
    "    X_test = pd.concat([X_test, X_test_hosp], axis=1)\n",
    "    X_test.drop('Stroke team', axis=1, inplace=True)    \n",
    "else:\n",
    "    # Remove stroke team for first test\n",
    "    X_train = X_train.drop('Stroke team', axis=1)\n",
    "    X_test = X_test.drop('Stroke team', axis=1)\n",
    "\n",
    "# Convert to NumPy arrays\n",
    "X_train = X_train.values\n",
    "X_test = X_test.values\n",
    "y_train = y_train.values\n",
    "y_test = y_test.values\n",
    "\n",
    "# Scale data\n",
    "X_train_sc, X_test_sc = scale_data(X_train, X_test)\n",
    "    \n",
    "# Define network\n",
    "number_features = X_train_sc.shape[1]\n",
    "    \n",
    "net = Net(number_features)\n",
    "\n",
    "# Set batch size (cases per batch - commonly 8-64)\n",
    "batch_size = 32\n",
    "# Epochs (number of times to pass over data)\n",
    "num_epochs = 10\n",
    "# Learning rate (how much each bacth updates the model)\n",
    "learning_rate = 0.001\n",
    "# Calculate numebr of batches\n",
    "batch_no = len(X_train_sc) // batch_size\n",
    "\n",
    "# Set up optimizer for classification\n",
    "criterion = torch.nn.BCELoss()\n",
    "optimizer = torch.optim.Adam(net.parameters(), lr=learning_rate)\n",
    "\n",
    "# Train model by passing through the data the required number of epochs\n",
    "for epoch in range(num_epochs):\n",
    "    print (f'{epoch}', end = ' ')\n",
    "\n",
    "    # Shuffle\n",
    "    X_train_sc, y_train = shuffle(X_train_sc, y_train)\n",
    "\n",
    "    # Set net to training mode\n",
    "    net.train()\n",
    "\n",
    "\n",
    "    for i in range(batch_no):\n",
    "        \n",
    "        # Get X and y batch data\n",
    "        start = i * batch_size\n",
    "        end = start + batch_size\n",
    "        x_var = Variable(torch.FloatTensor(X_train_sc[start:end]))\n",
    "        y_var = Variable(torch.FloatTensor(y_train[start:end]))\n",
    "\n",
    "        # These steps train the model: Forward + Backward + Optimize\n",
    "        optimizer.zero_grad() # reset optimizer\n",
    "        ypred_var = net(x_var) # predict y\n",
    "        loss = criterion(ypred_var, y_var.reshape(-1,1)) # Calculate loss\n",
    "        loss.backward() # Back propagate loss through network\n",
    "        optimizer.step() # Update network to reduce loss\n",
    "\n",
    "    # Set net to evaluation mode\n",
    "    net.eval()\n",
    "\n",
    "    test_var = Variable(torch.FloatTensor(X_train_sc))\n",
    "    result = net(test_var)\n",
    "    values = result.data.numpy().flatten()\n",
    "    y_pred_train = values >= 0.5\n",
    "    accuracy_train = np.mean(y_pred_train == y_train)\n",
    "    \n",
    "    test_var = Variable(torch.FloatTensor(X_test_sc))\n",
    "    result = net(test_var)\n",
    "    values = result.data.numpy().flatten()\n",
    "    y_pred_test = values >= 0.5\n",
    "    accuracy_test = np.mean(y_pred_test == y_test)\n",
    "    print(f'{accuracy_train:0.3f}, {accuracy_test:0.3f}')"
   ]
  },
  {
   "cell_type": "code",
   "execution_count": 10,
   "metadata": {},
   "outputs": [
    {
     "data": {
      "text/plain": [
       "(array([5317., 1208., 1011.,  860.,  776.,  725.,  669.,  586.,  535.,\n",
       "         518.,  471.,  475.,  516.,  568.,  665.,  787.,  847.,  750.,\n",
       "         389.,   86.]),\n",
       " array([5.5001268e-26, 4.8206814e-02, 9.6413627e-02, 1.4462043e-01,\n",
       "        1.9282725e-01, 2.4103406e-01, 2.8924087e-01, 3.3744767e-01,\n",
       "        3.8565451e-01, 4.3386132e-01, 4.8206812e-01, 5.3027493e-01,\n",
       "        5.7848173e-01, 6.2668854e-01, 6.7489535e-01, 7.2310221e-01,\n",
       "        7.7130902e-01, 8.1951582e-01, 8.6772263e-01, 9.1592944e-01,\n",
       "        9.6413624e-01], dtype=float32),\n",
       " <BarContainer object of 20 artists>)"
      ]
     },
     "execution_count": 10,
     "metadata": {},
     "output_type": "execute_result"
    },
    {
     "data": {
      "image/png": "[encoded data removed]",
      "text/plain": [
       "<Figure size 640x480 with 1 Axes>"
      ]
     },
     "metadata": {},
     "output_type": "display_data"
    }
   ],
   "source": [
    "plt.hist(values, bins=20)"
   ]
  },
  {
   "cell_type": "code",
   "execution_count": null,
   "metadata": {},
   "outputs": [],
   "source": []
  }
 ],
 "metadata": {
  "kernelspec": {
   "display_name": "Python 3.8.13 ('samuel')",
   "language": "python",
   "name": "python3"
  },
  "language_info": {
   "codemirror_mode": {
    "name": "ipython",
    "version": 3
   },
   "file_extension": ".py",
   "mimetype": "text/x-python",
   "name": "python",
   "nbconvert_exporter": "python",
   "pygments_lexer": "ipython3",
   "version": "3.8.13"
  },
  "vscode": {
   "interpreter": {
    "hash": "b368e36a85415766688ec72e3e874a4b525584eabf4bf7122952a4e0fd64fcde"
   }
  }
 },
 "nbformat": 4,
 "nbformat_minor": 4
}
