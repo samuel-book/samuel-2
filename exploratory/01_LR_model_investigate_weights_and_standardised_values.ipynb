{
 "cells": [
  {
   "cell_type": "markdown",
   "id": "a98ed8fa",
   "metadata": {},
   "source": [
    "# Logistic regression: Understanding hospital one-hot coefficients\n",
    "\n",
    "> *Motivation*: We predict thrombolysis use, for any patient, at different hospital by changing the one-hot hospital encoding (while keeping all other patient features unchanged). When we passed a 10K set of patients through all hospitals (by changing the one-hot encoding), we expected that the hospital rank order for the predicted thrombolysis use in that 10K cohort patients would be the same as the rank order of model coefficients for each of the hospital one-hot features. But we did not see exactly the same rank order. This notebook explores (and uncovers) the reason for the different rank orders.\n",
    "\n",
    "> *Key finding*: We discovered that when you standardise the dataset (the process of converting each feature independently to have a mean of 0 and standard deviation of 1), where one-hot features used to have a value of 0 and 1, they each now take a different pair of values. The resulting pair of values depends on how many instances have the value \"1\" for each hospital (effectively, the hospitals admission rate in the training set). The fewer patients the greater the standardised value for being one-hot. Therefore, with one-hot encoding the contribution of the ‘one hot’ feature depends on both the co-efficient and the standardised value for being one-hot. We cannot therefore take the logistic regression co-efficients in isoltaion and assume that they provide us with the relative importance.\n",
    "\n",
    "In this notebook we train a combined logistic regression model, and represent the hospital by one-hot encoding. The use of thrombolysis in an independent 10K cohort may then be predicted at each hospital by changing the one-hot encoding to mimic all those 10K patients attending each hospital. \n",
    "We then show how the coefficient for the hospital one hot features are not in the same rank as the thrombolysis rate, and show how this is related to the product of the coefficient with the standardised value.\n",
    "\n",
    "Actions from this notebook:\n",
    "1) check same hospitals in the train and test set if do a one hot\n",
    "2) take set of the hospital names and order alphabetically, then go through the hospitals in that order when send all 10k patients to the same hosptial.\n",
    "\n",
    "Learnt:\n",
    "With one-hot encoding the contribution of the ‘one hot’ feature depends on both the co-efficient and the standardised value for being one-hot (which varies depending on how many are one-hot for each hopsital - the fewer patients the greater the standardised value for being one-hot). We cannot therefore take the logistic regression co-efficients in isoltaion and assume that they provide us with the relative importance.\n",
    "\n",
    "\"Standardization is useful when your data has varying scales and the algorithm you are using does make assumptions about your data having a Gaussian distribution, such as linear regression, logistic regression, and linear discriminant analysis.\"\n",
    "(https://towardsai.net/p/data-science/how-when-and-why-should-you-normalize-standardize-rescale-your-data-3f083def38ff#:~:text=Standardization%20is%20useful%20when%20your,regression%2C%20and%20linear%20discriminant%20analysis.)"
   ]
  },
  {
   "cell_type": "markdown",
   "id": "e868486f",
   "metadata": {},
   "source": [
    "## Import libraries"
   ]
  },
  {
   "cell_type": "code",
   "execution_count": 1,
   "id": "1bc166c1",
   "metadata": {},
   "outputs": [],
   "source": [
    "# Turn warnings off to keep notebook tidy\n",
    "import warnings\n",
    "warnings.filterwarnings(\"ignore\")\n",
    "\n",
    "import os\n",
    "import pandas as pd\n",
    "import numpy as np\n",
    "\n",
    "from pylab import *\n",
    "%matplotlib inline \n",
    "import matplotlib.pyplot as plt\n",
    "from matplotlib import colors\n",
    "from matplotlib import cm\n",
    "\n",
    "from sklearn.preprocessing import StandardScaler\n",
    "from sklearn.linear_model import LogisticRegression\n",
    "\n",
    "import math #used in the sigmoid function"
   ]
  },
  {
   "cell_type": "markdown",
   "id": "161eaca3",
   "metadata": {},
   "source": [
    "## Function to standardise data\n",
    "\n",
    "This converts all features to have a mean of 0 and a standard deviation of 1."
   ]
  },
  {
   "cell_type": "code",
   "execution_count": 2,
   "id": "07701917",
   "metadata": {},
   "outputs": [],
   "source": [
    "def standardise_data(X_train, X_test):\n",
    "    \"\"\"\n",
    "    Converts all data to a similar scale.\n",
    "    Standardisation subtracts mean and divides by standard deviation\n",
    "    for each feature.\n",
    "    Standardised data will have a mena of 0 and standard deviation of 1.\n",
    "    The training data mean and standard deviation is used to standardise both\n",
    "    training and test set data.\n",
    "    \"\"\"\n",
    "    \n",
    "    # Initialise a new scaling object for normalising input data\n",
    "    sc = StandardScaler() \n",
    "\n",
    "    # Set up the scaler just on the training set\n",
    "    sc.fit(X_train)\n",
    "\n",
    "    # Apply the scaler to the training and test sets\n",
    "    train_std=sc.transform(X_train)\n",
    "    test_std=sc.transform(X_test)\n",
    "    \n",
    "    return train_std, test_std"
   ]
  },
  {
   "cell_type": "markdown",
   "id": "947d8e92",
   "metadata": {},
   "source": [
    "## Load data"
   ]
  },
  {
   "cell_type": "code",
   "execution_count": 3,
   "id": "92cb2db6",
   "metadata": {},
   "outputs": [],
   "source": [
    "data_loc = '../data/sam_1/10k_training_test/'\n",
    "\n",
    "train = pd.read_csv(data_loc + 'cohort_10000_train.csv')\n",
    "test = pd.read_csv(data_loc + 'cohort_10000_test.csv')"
   ]
  },
  {
   "cell_type": "code",
   "execution_count": 4,
   "id": "d503b7eb-5a5d-44d6-9f31-645b5c93429c",
   "metadata": {},
   "outputs": [
    {
     "data": {
      "text/plain": [
       "(78792, 89)"
      ]
     },
     "execution_count": 4,
     "metadata": {},
     "output_type": "execute_result"
    }
   ],
   "source": [
    "train.shape"
   ]
  },
  {
   "cell_type": "markdown",
   "id": "d2a23da5",
   "metadata": {},
   "source": [
    "## Initialise global objects"
   ]
  },
  {
   "cell_type": "code",
   "execution_count": 5,
   "id": "f0a3bf7c",
   "metadata": {},
   "outputs": [],
   "source": [
    "hospitals = set(train['StrokeTeam'])\n",
    "hospital_loop_order = list(set(train['StrokeTeam']))\n",
    "\n",
    "n_hospitals = len(hospital_loop_order)\n",
    "n_patients = test.shape[0]"
   ]
  },
  {
   "cell_type": "markdown",
   "id": "33fd8e04",
   "metadata": {},
   "source": [
    "## Model: Logistic regression model. Combined model for all hospitals\n",
    "\n",
    "Logistic regression model trained using one-hot encoded hospitals"
   ]
  },
  {
   "cell_type": "markdown",
   "id": "1f65945b",
   "metadata": {},
   "source": [
    "### Train model\n",
    "\n",
    "Suggestion: Trusting that each Train and Test set has the same hospitals, and so they will create identical ordered hosptial one hots. \n",
    "Worth putting in a check that each dataset contains the same set of hosptials, like in the cell below."
   ]
  },
  {
   "cell_type": "code",
   "execution_count": 6,
   "id": "b34ba56d-bea0-4b59-a6da-af7da5351560",
   "metadata": {},
   "outputs": [
    {
     "data": {
      "text/plain": [
       "True"
      ]
     },
     "execution_count": 6,
     "metadata": {},
     "output_type": "execute_result"
    }
   ],
   "source": [
    "list(train) == list(test)"
   ]
  },
  {
   "cell_type": "code",
   "execution_count": 7,
   "id": "77ceb69b",
   "metadata": {},
   "outputs": [
    {
     "name": "stdout",
     "output_type": "stream",
     "text": [
      "Accuracy: 0.8262\n"
     ]
    }
   ],
   "source": [
    "# Get X and y\n",
    "X_train = train.drop('S2Thrombolysis', axis=1)\n",
    "X_test = test.drop('S2Thrombolysis', axis=1)\n",
    "y_train = train['S2Thrombolysis']\n",
    "y_test = test['S2Thrombolysis']\n",
    "\n",
    "# One hot encode hospitals\n",
    "list(X_train) == list(X_test)\n",
    "X_train_hosp = pd.get_dummies(X_train['StrokeTeam'], prefix = 'team')\n",
    "X_train = pd.concat([X_train, X_train_hosp], axis=1)\n",
    "X_train.drop('StrokeTeam', axis=1, inplace=True)\n",
    "X_test_hosp = pd.get_dummies(X_test['StrokeTeam'], prefix = 'team')\n",
    "X_test = pd.concat([X_test, X_test_hosp], axis=1)\n",
    "X_test.drop('StrokeTeam', axis=1, inplace=True)\n",
    "\n",
    "# Standardise X data\n",
    "X_train_std, X_test_std = standardise_data(X_train, X_test)\n",
    "\n",
    "# Store number of features\n",
    "n_features = X_test_std.shape[1]\n",
    "\n",
    "# Define model\n",
    "model = LogisticRegression(solver='lbfgs', random_state=42)\n",
    "\n",
    "# Fit model\n",
    "model.fit(X_train_std, y_train)\n",
    "\n",
    "# Get predicted probabilities and class\n",
    "y_probs = model.predict_proba(X_test_std)[:,1]\n",
    "y_pred = y_probs > 0.5\n",
    "\n",
    "# Show accuracy\n",
    "accuracy = np.mean(y_pred == y_test)\n",
    "print (f'Accuracy: {accuracy}')"
   ]
  },
  {
   "cell_type": "markdown",
   "id": "c8500d34-9833-4891-8a6a-d41487d621ac",
   "metadata": {},
   "source": [
    "### Pass 10k cohort through all hospital models and get thrombolysis rate"
   ]
  },
  {
   "cell_type": "code",
   "execution_count": 8,
   "id": "09593eb5-0ee0-462b-b232-5c6f21a0dbc5",
   "metadata": {},
   "outputs": [
    {
     "name": "stdout",
     "output_type": "stream",
     "text": [
      "132"
     ]
    }
   ],
   "source": [
    "hospitals = set(train['StrokeTeam'])\n",
    "thrombolysis_rate = []\n",
    "counter = 0\n",
    "\n",
    "for hospital in hospitals: \n",
    "    counter += 1\n",
    "    print(f'\\r{counter}', end='') \n",
    "\n",
    "# if print out \"hosptials\", as this is a set (calculated from \n",
    "# set(train['StrokeTeam'])), the loop is not in alphabetical order, it's in \n",
    "# another order (not seem to be the order fo first appearance in either)\n",
    "\n",
    "    # Get test data without thrombolysis hospital or stroke team\n",
    "    X_test_no_hosp = test.drop(['S2Thrombolysis', 'StrokeTeam'], axis=1)\n",
    "    \n",
    "    # Copy hospital dataframe and change hospital ID (after setting all to zero)\n",
    "    X_test_adjusted_hospital = X_test_hosp.copy()\n",
    "    X_test_adjusted_hospital.loc[:,:] = 0\n",
    "    team = \"team_\" + hospital\n",
    "    X_test_adjusted_hospital[team] = 1\n",
    "    \n",
    "    X_test_adjusted = pd.concat(\n",
    "        [X_test_no_hosp, X_test_adjusted_hospital], axis=1)\n",
    "    \n",
    "    # Standardised\n",
    "    X_train_std, X_test_std = standardise_data(X_train, X_test_adjusted)\n",
    "    \n",
    "    # Get predicted probabilities and class\n",
    "    y_probs = model.predict_proba(X_test_std)[:,1]\n",
    "    y_pred = y_probs > 0.5\n",
    "    thrombolysis_rate.append(y_pred.mean())\n",
    "\n",
    "lr_single = thrombolysis_rate"
   ]
  },
  {
   "cell_type": "markdown",
   "id": "5fa93da9-3129-4534-a5e4-2ab7c0b64115",
   "metadata": {},
   "source": [
    "### Plot thrombolysis rate of 10K cohort at each hospital"
   ]
  },
  {
   "cell_type": "code",
   "execution_count": 9,
   "id": "6a9a28c6-1fe3-4a78-bbba-610c2a2b46d6",
   "metadata": {},
   "outputs": [
    {
     "data": {
      "image/png": "[encoded data removed]",
      "text/plain": [
       "<Figure size 432x432 with 1 Axes>"
      ]
     },
     "metadata": {
      "needs_background": "light"
     },
     "output_type": "display_data"
    }
   ],
   "source": [
    "fig = plt.figure(figsize=(6,6))\n",
    "ax = fig.add_subplot()\n",
    "ax.hist(thrombolysis_rate)\n",
    "ax.set_xlabel('Thrombolysis rate')\n",
    "ax.set_ylabel('Count')\n",
    "plt.show()"
   ]
  },
  {
   "cell_type": "markdown",
   "id": "a113fb7c-0972-4d28-9937-c62c01b2dd5e",
   "metadata": {},
   "source": [
    "### Show stats"
   ]
  },
  {
   "cell_type": "code",
   "execution_count": 10,
   "id": "9302f21e-ce6a-4c93-ba4d-c6677093f603",
   "metadata": {},
   "outputs": [
    {
     "name": "stdout",
     "output_type": "stream",
     "text": [
      "Mean: 0.259\n",
      "StDev: 0.085\n"
     ]
    }
   ],
   "source": [
    "mean = np.mean(thrombolysis_rate)\n",
    "stdev = np.std(thrombolysis_rate)\n",
    "\n",
    "print (f'Mean: {mean:0.3f}')\n",
    "print (f'StDev: {stdev:0.3f}')"
   ]
  },
  {
   "cell_type": "markdown",
   "id": "62ed7447-0280-491c-9348-d96738984365",
   "metadata": {},
   "source": [
    "## How to determine the hospitals keeness to thrombolyse from the model.\n",
    "\n",
    "### Plot the hospitals 10k patient thrombolysis rate vs the hospital feature co-efficient.\n",
    "\n",
    "By design of the combined logistic regression model, each clinical feature has the same coefficient regardless of which hospital the patient attended. Therefore each patient will have the same resulting value from their clinical features, and the only thing that is going to differ in the decision in treatment between hosptials is from the contribution of the hosptial coefficient.\n",
    "\n",
    "So all patients will have a score, then each hosptial will add (or subtract) a fixed amount from the patients score.\n",
    "\n",
    "We expected to see that hospitals can be ordered by keeness to thrombolyse based on their hosptial's one hot feature coefficient.\n",
    "\n",
    "Note: The rank calculations are in reverse order so that the points on the graph showing the ranked postiions are more relatable to the position of the points on the graph showing the raw values. Hhigh thrombolysis rate = high thrombolysis rate ranking position. High weight value = high weight ranking position."
   ]
  },
  {
   "cell_type": "code",
   "execution_count": 11,
   "id": "84e47150-24c8-4ff9-952a-e33d701d9ab8",
   "metadata": {},
   "outputs": [
    {
     "data": {
      "text/plain": [
       "<AxesSubplot:xlabel='Rank of 10K cohort thrombolysis rate', ylabel='Rank of weight'>"
      ]
     },
     "execution_count": 11,
     "metadata": {},
     "output_type": "execute_result"
    },
    {
     "data": {
      "image/png": "[encoded data removed]",
      "text/plain": [
       "<Figure size 432x288 with 1 Axes>"
      ]
     },
     "metadata": {
      "needs_background": "light"
     },
     "output_type": "display_data"
    },
    {
     "data": {
      "image/png": "[encoded data removed]",
      "text/plain": [
       "<Figure size 432x288 with 1 Axes>"
      ]
     },
     "metadata": {
      "needs_background": "light"
     },
     "output_type": "display_data"
    }
   ],
   "source": [
    "# get feature names\n",
    "features = list(X_train)\n",
    "# drop \"team_\" from the one-hot hospital feature names\n",
    "feature_names = [i[5:] for i in features]\n",
    "\n",
    "# get feature weights\n",
    "feature_weights = model.coef_[0]\n",
    "weights = pd.DataFrame(index=feature_names)\n",
    "weights['weight'] = feature_weights\n",
    "\n",
    "# Put thrombolysis rate in dataframe\n",
    "thrombo_rate = pd.DataFrame(index=hospital_loop_order)\n",
    "thrombo_rate['10K cohort thrombolysis rate'] = thrombolysis_rate\n",
    "\n",
    "# join the dataframes on index value, and limit to just those that have values\n",
    "# in both dataframes (we will get just the hosptials)\n",
    "df_weights_thrombrate = weights.join(thrombo_rate, how='inner')\n",
    "\n",
    "# plot scatter of thrombolysis rate vs weight\n",
    "df_weights_thrombrate.plot.scatter(x='10K cohort thrombolysis rate', \n",
    "                                   y='weight')\n",
    "\n",
    "# calculate ranks\n",
    "# note that ranks are in reverse order so that the points on the graph are\n",
    "# more relatable to the position of the raw values\n",
    "# (high thrombolysis rate = high thrombolysis rate ranking position)\n",
    "# (high weight value = high weight ranking position)\n",
    "df_weights_thrombrate['Rank of weight'] = (\n",
    "                df_weights_thrombrate['weight'].rank(ascending=True).values)\n",
    "\n",
    "df_weights_thrombrate['Rank of 10K cohort thrombolysis rate'] = (\n",
    "                df_weights_thrombrate['10K cohort thrombolysis rate'].rank(\n",
    "                                                        ascending=True).values)\n",
    "\n",
    "# plot scatter of ranks (thrombolysis rate vs weight)\n",
    "df_weights_thrombrate.plot.scatter(x='Rank of 10K cohort thrombolysis rate', \n",
    "                                   y='Rank of weight')"
   ]
  },
  {
   "cell_type": "markdown",
   "id": "f3db5078-f949-4183-8913-d32d12813c90",
   "metadata": {},
   "source": [
    "The hospital feature coefficient value did not align with the hospitals thrombolysis rate. \n",
    "And neither did the ranked position of each variable.\n",
    "\n",
    "Why could this be?"
   ]
  },
  {
   "cell_type": "markdown",
   "id": "0fcc5d12-19ef-4895-9468-bf4b82381b0d",
   "metadata": {},
   "source": [
    "### Standardised values for one-hot features\n",
    "\n",
    "It is due to the contribution from each hospital is a combination of the hosptial feature coefficient, and the feature value when standardising the data. \n",
    "\n",
    "Standardising the data scales each input variable separately by subtracting the mean (called centering) and dividing by the standard deviation to shift the distribution to have a mean of zero and a standard deviation of one.\n",
    "\n",
    "This means that each hospital will have a different standardised value based on the number of admissions for the hospital in the training dataset (the number of times \"1\" is present, as this will effect the mean and standard deviation of that feature). A hospital with fewer patients will have fewer value \"1\" and more value \"0\", hence the standardised values will be larger so as to obtain the mean 0 stddev 1. \n",
    "\n",
    "For example if 200/78792 patients go to hospital A, then the standardise values are 0: -0.05 and 1: 19.8.\\\n",
    "For example if 50000/78792 patients go to hospital B then the standardise values are 0: -1.3 and 1: 0.7"
   ]
  },
  {
   "cell_type": "markdown",
   "id": "781802fe-e9bf-4308-b4d1-836ffca79349",
   "metadata": {},
   "source": [
    "### Plot the pairing of standardised values, with each point coloured by the hospital admission values"
   ]
  },
  {
   "cell_type": "code",
   "execution_count": 12,
   "id": "6f243e52-bd94-44a8-88c4-ea546d4534d8",
   "metadata": {},
   "outputs": [
    {
     "data": {
      "text/plain": [
       "<AxesSubplot:xlabel='standardised0', ylabel='standardised1'>"
      ]
     },
     "execution_count": 12,
     "metadata": {},
     "output_type": "execute_result"
    },
    {
     "data": {
      "image/png": "[encoded data removed]",
      "text/plain": [
       "<Figure size 432x288 with 2 Axes>"
      ]
     },
     "metadata": {
      "needs_background": "light"
     },
     "output_type": "display_data"
    }
   ],
   "source": [
    "# start position in the features list of the one hot hospital features\n",
    "st_pos = n_features - n_hospitals\n",
    "\n",
    "# calculate admission rates (per hospital)\n",
    "np_unique = np.unique(train[\"StrokeTeam\"], return_counts=True)\n",
    "df_hospital_admissions = pd.DataFrame(index=np_unique[0])\n",
    "df_hospital_admissions[\"admissions\"] = np_unique[1]\n",
    "df_hospital_admissions['admissions_rank'] = (\n",
    "            df_hospital_admissions['admissions'].rank(ascending=True).values)\n",
    "\n",
    "# join admission data to main dataframe\n",
    "df_weights_thrombrate = df_weights_thrombrate.join(df_hospital_admissions, \n",
    "                                                   how='inner')\n",
    "\n",
    "# calculate standardised values (per hospital)\n",
    "standardised0 = np.array(())\n",
    "standardised1 = np.array(())\n",
    "for n in range(n_hospitals):\n",
    "    res = np.unique(X_train_std[:,st_pos+n])\n",
    "    standardised0 = np.append(standardised0, res[0])\n",
    "    standardised1 = np.append(standardised1, res[1])\n",
    "\n",
    "# join standardised data to main dataframe\n",
    "df_weights_thrombrate[\"standardised0\"] = standardised0\n",
    "df_weights_thrombrate[\"standardised1\"] = standardised1\n",
    "\n",
    "#plot scatter of the parings of standardised values\n",
    "df_weights_thrombrate.plot.scatter(x='standardised0', y='standardised1', \n",
    "                                   c='admissions', colormap='viridis',\n",
    "                                   sharex=False)\n",
    "\n",
    "# When use colormap in pandas plot, you can loose the x label. \n",
    "# \"sharex=False\" is a workaround \n",
    "# (see http://stackoverflow.com/a/31633381/2230844 & \n",
    "# https://github.com/pandas-dev/pandas/issues/10611)"
   ]
  },
  {
   "cell_type": "markdown",
   "id": "56116c22-f71c-48dc-8135-8512bc23a7f8",
   "metadata": {},
   "source": [
    "This graph shows that as you increase the admission rate in the training set (blue = low, yellow = high), the resulting standardised values for a one hot feature (to represent the original 0 & 1 values) are smaller."
   ]
  },
  {
   "cell_type": "markdown",
   "id": "d6f72e65-344f-4dea-b21d-c8fa2442db76",
   "metadata": {},
   "source": [
    "### Plot the hospitals 10k patient thrombolysis rate vs the hospital feature (co-efficient * standardised1)\n",
    "\n",
    "Now let's incorporate the standardised values (plot the ranking of these variables in a separate graph also)."
   ]
  },
  {
   "cell_type": "code",
   "execution_count": 13,
   "id": "c20ea8eb-b57d-4d66-b411-0f7688fcaf13",
   "metadata": {},
   "outputs": [
    {
     "data": {
      "text/plain": [
       "<AxesSubplot:xlabel='Rank of 10K cohort thrombolysis rate', ylabel='Rank of standardised1 * weight'>"
      ]
     },
     "execution_count": 13,
     "metadata": {},
     "output_type": "execute_result"
    },
    {
     "data": {
      "image/png": "[encoded data removed]",
      "text/plain": [
       "<Figure size 432x288 with 1 Axes>"
      ]
     },
     "metadata": {
      "needs_background": "light"
     },
     "output_type": "display_data"
    },
    {
     "data": {
      "image/png": "[encoded data removed]",
      "text/plain": [
       "<Figure size 432x288 with 1 Axes>"
      ]
     },
     "metadata": {
      "needs_background": "light"
     },
     "output_type": "display_data"
    }
   ],
   "source": [
    "df_weights_thrombrate[\"standardised1 * weight\"] = (\n",
    "    df_weights_thrombrate[\"standardised1\"] * df_weights_thrombrate[\"weight\"])\n",
    "\n",
    "df_weights_thrombrate.plot.scatter(\n",
    "                        x='10K cohort thrombolysis rate', \n",
    "                        y='standardised1 * weight')\n",
    "\n",
    "# calculate ranks\n",
    "# note that ranks are in reverse order so that the points on the graph are\n",
    "# more relatable to the position of the raw values\n",
    "# high raw value = high ranking position\n",
    "df_weights_thrombrate['Rank of standardised1 * weight'] = (\n",
    "    df_weights_thrombrate['standardised1 * weight'].rank(\n",
    "                                                    ascending=True).values)\n",
    "\n",
    "# plot scatter of ranks (thrombolysis rate vs weight)\n",
    "df_weights_thrombrate.plot.scatter(x='Rank of 10K cohort thrombolysis rate', \n",
    "                                   y='Rank of standardised1 * weight')"
   ]
  },
  {
   "cell_type": "markdown",
   "id": "f9301672-e334-40c9-ad46-f9f40b6e6a19",
   "metadata": {},
   "source": [
    "This shows that the hospitals keeness to thrombolyse can be summarised by the combination of the hosptial one hot feature weight and the standardised value. However there is still a little kink in the graph, we have not yet achieved a perfect 1:1 relationship.\n",
    "\n",
    "Next also include the sum of the (standardised0 * weight) for the contributions coming from not going to all of the other hosptials?\n",
    "\n",
    "### Plot the hospitals 10k patient thrombolysis rate vs the weighted hospital features\n",
    "\n",
    "For each hospital plot the weighted hospital one-hot features (the summed dot product of standardised one-hot encoding and one-hot co-efficients)."
   ]
  },
  {
   "cell_type": "code",
   "execution_count": 14,
   "id": "54b60863-8188-4995-a0bf-d1f014ddea53",
   "metadata": {},
   "outputs": [
    {
     "data": {
      "image/png": "[encoded data removed]",
      "text/plain": [
       "<Figure size 432x288 with 1 Axes>"
      ]
     },
     "metadata": {
      "needs_background": "light"
     },
     "output_type": "display_data"
    },
    {
     "data": {
      "image/png": "[encoded data removed]",
      "text/plain": [
       "<Figure size 432x288 with 1 Axes>"
      ]
     },
     "metadata": {
      "needs_background": "light"
     },
     "output_type": "display_data"
    }
   ],
   "source": [
    "arr = np.array(())\n",
    "\n",
    "#plot scatter of thrombolysis rate vs weight, colour points by admissions\n",
    "for i in range(df_weights_thrombrate.shape[0]):\n",
    "    factor = df_weights_thrombrate[\"standardised0\"].copy(deep=True)\n",
    "    factor[i] = df_weights_thrombrate.iloc[i][\"standardised1\"]\n",
    "    sumproduct = np.dot(df_weights_thrombrate[\"weight\"], factor)\n",
    "    arr = np.append(arr, sumproduct)\n",
    "\n",
    "y_label = \"std1 * weight + sum hosps(std0 * weight)\"\n",
    "df_weights_thrombrate[y_label] = arr\n",
    "\n",
    "df_weights_thrombrate.plot.scatter(x='10K cohort thrombolysis rate', \n",
    "                                   y=y_label)\n",
    "\n",
    "# calculate ranks\n",
    "# note that ranks are in reverse order so that the points on the graph are\n",
    "# more relatable to the position of the raw values\n",
    "# high raw value = high ranking position\n",
    "y_label_rank = \"Rank of [std1 * w + sum hosps(std0 * w)]\"\n",
    "df_weights_thrombrate[y_label_rank] = (\n",
    "        df_weights_thrombrate[y_label].rank(ascending=True).values)\n",
    "\n",
    "#plot scatter of ranks (thrombolysis rate vs weight)\n",
    "df_weights_thrombrate.plot.scatter(x='Rank of 10K cohort thrombolysis rate',\n",
    "                                   y=y_label_rank )\n",
    "\n",
    "plt.show()"
   ]
  },
  {
   "cell_type": "markdown",
   "id": "742af7b2-cf8c-417b-b7e0-c8740ccdda2a",
   "metadata": {},
   "source": [
    "## Result\n",
    "\n",
    "The hospitals keeness to thrombolyse can be summarised by the combination of the feature weight and the standardised value."
   ]
  },
  {
   "cell_type": "markdown",
   "id": "2132c69a-05a2-452d-b8a4-145053db886b",
   "metadata": {},
   "source": [
    "### Extra analysis \n",
    "\n",
    "### The graph \"hospitals 10k patient thrombolysis rate vs the hospital feature co-efficient\""
   ]
  },
  {
   "cell_type": "markdown",
   "id": "47f3e38c-43a6-4211-98a0-d260c0becf41",
   "metadata": {},
   "source": [
    "Let's revisit the earlier graphs showing the hospitals 10k patient thrombolysis rate vs the hospital feature co-efficient, now also show the admission rate from the training set.\n",
    "\n",
    "### Plot the hospitals 10k patient thrombolysis rate vs the hospital feature co-efficient, colour to represent admissions"
   ]
  },
  {
   "cell_type": "code",
   "execution_count": 15,
   "id": "7cae6338-ec28-4150-aa23-f1abf14df50c",
   "metadata": {},
   "outputs": [
    {
     "data": {
      "text/plain": [
       "<AxesSubplot:xlabel='10K cohort thrombolysis rate', ylabel='weight'>"
      ]
     },
     "execution_count": 15,
     "metadata": {},
     "output_type": "execute_result"
    },
    {
     "data": {
      "image/png": "[encoded data removed]",
      "text/plain": [
       "<Figure size 432x288 with 2 Axes>"
      ]
     },
     "metadata": {
      "needs_background": "light"
     },
     "output_type": "display_data"
    }
   ],
   "source": [
    "#plot scatter of thrombolysis rate vs weight, colour points by admissions\n",
    "df_weights_thrombrate.plot.scatter(x='10K cohort thrombolysis rate', \n",
    "                                   y='weight', \n",
    "                                   c='admissions', \n",
    "                                   colormap='viridis', sharex=False)"
   ]
  },
  {
   "cell_type": "markdown",
   "id": "9a59a7ff-5639-4bb2-bea5-5ce269bafc04",
   "metadata": {},
   "source": [
    "Expected to see all blue on the underside of the 1:1 line, and yellow on the upper side of the 1:1 line.\n",
    "\n",
    "Taking the two points on the right (with 10k thrombolysis rate of ~0.45 and a weight of ~0.5) as an example, these have a higher thrombolysis rate than we would expect by just assessing the weights. The 1:1 line suggests a weight of 0.5 gives a thrombolysis rate of ~0.35.\n",
    "\n",
    "For these hospitals to have a higher thrombolysis rate than weights imply, means they have a relatively larger standardised value to represent \"1\" (which bumps the thrombolysis rate up). This is obtained by hospitals having fewer admissions.\n",
    "\n",
    "The dark blue shows that these hosptials do have a low admission.\n",
    "\n",
    "Let's identify these two hosptials that are these two outliers."
   ]
  },
  {
   "cell_type": "code",
   "execution_count": 16,
   "id": "e3c40a14-12d2-4114-8114-c9e7dd5a83d9",
   "metadata": {},
   "outputs": [
    {
     "data": {
      "text/html": [
       "<div>\n",
       "<style scoped>\n",
       "    .dataframe tbody tr th:only-of-type {\n",
       "        vertical-align: middle;\n",
       "    }\n",
       "\n",
       "    .dataframe tbody tr th {\n",
       "        vertical-align: top;\n",
       "    }\n",
       "\n",
       "    .dataframe thead th {\n",
       "        text-align: right;\n",
       "    }\n",
       "</style>\n",
       "<table border=\"1\" class=\"dataframe\">\n",
       "  <thead>\n",
       "    <tr style=\"text-align: right;\">\n",
       "      <th></th>\n",
       "      <th>admissions</th>\n",
       "      <th>admissions_rank</th>\n",
       "    </tr>\n",
       "  </thead>\n",
       "  <tbody>\n",
       "    <tr>\n",
       "      <th>CNBGF2713O</th>\n",
       "      <td>135</td>\n",
       "      <td>4.0</td>\n",
       "    </tr>\n",
       "    <tr>\n",
       "      <th>HPWIF9956L</th>\n",
       "      <td>178</td>\n",
       "      <td>8.0</td>\n",
       "    </tr>\n",
       "  </tbody>\n",
       "</table>\n",
       "</div>"
      ],
      "text/plain": [
       "            admissions  admissions_rank\n",
       "CNBGF2713O         135              4.0\n",
       "HPWIF9956L         178              8.0"
      ]
     },
     "execution_count": 16,
     "metadata": {},
     "output_type": "execute_result"
    }
   ],
   "source": [
    "mask1 = df_weights_thrombrate['10K cohort thrombolysis rate'] > 0.42\n",
    "mask2 = df_weights_thrombrate['weight'] > 0.04\n",
    "mask3 = df_weights_thrombrate['weight'] < 0.05\n",
    "mask = mask1 * mask2 * mask3\n",
    "outlier_hosp = df_weights_thrombrate[mask]\n",
    "df_hospital_admissions.loc[outlier_hosp.index]"
   ]
  },
  {
   "cell_type": "code",
   "execution_count": 17,
   "id": "eb366fe3-1c68-4acc-801a-4add2a05e3e5",
   "metadata": {},
   "outputs": [
    {
     "data": {
      "text/html": [
       "<div>\n",
       "<style scoped>\n",
       "    .dataframe tbody tr th:only-of-type {\n",
       "        vertical-align: middle;\n",
       "    }\n",
       "\n",
       "    .dataframe tbody tr th {\n",
       "        vertical-align: top;\n",
       "    }\n",
       "\n",
       "    .dataframe thead th {\n",
       "        text-align: right;\n",
       "    }\n",
       "</style>\n",
       "<table border=\"1\" class=\"dataframe\">\n",
       "  <thead>\n",
       "    <tr style=\"text-align: right;\">\n",
       "      <th></th>\n",
       "      <th>weight</th>\n",
       "      <th>10K cohort thrombolysis rate</th>\n",
       "      <th>Rank of weight</th>\n",
       "      <th>Rank of 10K cohort thrombolysis rate</th>\n",
       "      <th>admissions</th>\n",
       "      <th>admissions_rank</th>\n",
       "      <th>standardised0</th>\n",
       "      <th>standardised1</th>\n",
       "      <th>standardised1 * weight</th>\n",
       "      <th>Rank of standardised1 * weight</th>\n",
       "      <th>std1 * weight + sum hosps(std0 * weight)</th>\n",
       "      <th>Rank of [std1 * w + sum hosps(std0 * w)]</th>\n",
       "    </tr>\n",
       "  </thead>\n",
       "  <tbody>\n",
       "    <tr>\n",
       "      <th>CNBGF2713O</th>\n",
       "      <td>0.044276</td>\n",
       "      <td>0.4410</td>\n",
       "      <td>112.0</td>\n",
       "      <td>131.0</td>\n",
       "      <td>135</td>\n",
       "      <td>4.0</td>\n",
       "      <td>-0.041428</td>\n",
       "      <td>24.138029</td>\n",
       "      <td>1.068733</td>\n",
       "      <td>132.0</td>\n",
       "      <td>1.069945</td>\n",
       "      <td>131.0</td>\n",
       "    </tr>\n",
       "    <tr>\n",
       "      <th>HPWIF9956L</th>\n",
       "      <td>0.047894</td>\n",
       "      <td>0.4324</td>\n",
       "      <td>114.0</td>\n",
       "      <td>130.0</td>\n",
       "      <td>178</td>\n",
       "      <td>8.0</td>\n",
       "      <td>-0.047584</td>\n",
       "      <td>21.015511</td>\n",
       "      <td>1.006517</td>\n",
       "      <td>130.0</td>\n",
       "      <td>1.008173</td>\n",
       "      <td>130.0</td>\n",
       "    </tr>\n",
       "  </tbody>\n",
       "</table>\n",
       "</div>"
      ],
      "text/plain": [
       "              weight  10K cohort thrombolysis rate  Rank of weight  \\\n",
       "CNBGF2713O  0.044276                        0.4410           112.0   \n",
       "HPWIF9956L  0.047894                        0.4324           114.0   \n",
       "\n",
       "            Rank of 10K cohort thrombolysis rate  admissions  admissions_rank  \\\n",
       "CNBGF2713O                                 131.0         135              4.0   \n",
       "HPWIF9956L                                 130.0         178              8.0   \n",
       "\n",
       "            standardised0  standardised1  standardised1 * weight  \\\n",
       "CNBGF2713O      -0.041428      24.138029                1.068733   \n",
       "HPWIF9956L      -0.047584      21.015511                1.006517   \n",
       "\n",
       "            Rank of standardised1 * weight  \\\n",
       "CNBGF2713O                           132.0   \n",
       "HPWIF9956L                           130.0   \n",
       "\n",
       "            std1 * weight + sum hosps(std0 * weight)  \\\n",
       "CNBGF2713O                                  1.069945   \n",
       "HPWIF9956L                                  1.008173   \n",
       "\n",
       "            Rank of [std1 * w + sum hosps(std0 * w)]  \n",
       "CNBGF2713O                                     131.0  \n",
       "HPWIF9956L                                     130.0  "
      ]
     },
     "execution_count": 17,
     "metadata": {},
     "output_type": "execute_result"
    }
   ],
   "source": [
    "df_weights_thrombrate.loc[outlier_hosp.index]"
   ]
  },
  {
   "cell_type": "markdown",
   "id": "38a7821f-09b0-4d87-ad01-d9406f466df5",
   "metadata": {},
   "source": [
    "But this argument does not hold for the hosptial with the high admission (yellow) which is also to the RHS of the 1:1 line. Would expect a hospital with a high admission to have a lower std1 value, and so the thrombolysis rate to be lower than the weight alone would imply. But the thrombolysis rate is higher.\n",
    "\n",
    "Let's extract that hospital's details."
   ]
  },
  {
   "cell_type": "code",
   "execution_count": 18,
   "id": "54ab9f16-265e-4cb2-bb0b-1d904a3f4f2b",
   "metadata": {},
   "outputs": [
    {
     "data": {
      "text/html": [
       "<div>\n",
       "<style scoped>\n",
       "    .dataframe tbody tr th:only-of-type {\n",
       "        vertical-align: middle;\n",
       "    }\n",
       "\n",
       "    .dataframe tbody tr th {\n",
       "        vertical-align: top;\n",
       "    }\n",
       "\n",
       "    .dataframe thead th {\n",
       "        text-align: right;\n",
       "    }\n",
       "</style>\n",
       "<table border=\"1\" class=\"dataframe\">\n",
       "  <thead>\n",
       "    <tr style=\"text-align: right;\">\n",
       "      <th></th>\n",
       "      <th>admissions</th>\n",
       "      <th>admissions_rank</th>\n",
       "    </tr>\n",
       "  </thead>\n",
       "  <tbody>\n",
       "    <tr>\n",
       "      <th>FAJKD7118X</th>\n",
       "      <td>1756</td>\n",
       "      <td>132.0</td>\n",
       "    </tr>\n",
       "  </tbody>\n",
       "</table>\n",
       "</div>"
      ],
      "text/plain": [
       "            admissions  admissions_rank\n",
       "FAJKD7118X        1756            132.0"
      ]
     },
     "execution_count": 18,
     "metadata": {},
     "output_type": "execute_result"
    }
   ],
   "source": [
    "mask1 = df_weights_thrombrate['10K cohort thrombolysis rate'] > 0.2\n",
    "mask2 = df_weights_thrombrate['10K cohort thrombolysis rate'] < 0.22\n",
    "mask3 = df_weights_thrombrate['weight'] < -0.05\n",
    "mask4 = df_weights_thrombrate['weight'] > -0.06\n",
    "mask = mask1 * mask2 * mask3 * mask4\n",
    "outlier_hosp = df_weights_thrombrate[mask]\n",
    "df_hospital_admissions.loc[outlier_hosp.index]"
   ]
  },
  {
   "cell_type": "code",
   "execution_count": 19,
   "id": "2b84ca63-040f-424b-bf66-9788f6aeb915",
   "metadata": {},
   "outputs": [
    {
     "data": {
      "text/html": [
       "<div>\n",
       "<style scoped>\n",
       "    .dataframe tbody tr th:only-of-type {\n",
       "        vertical-align: middle;\n",
       "    }\n",
       "\n",
       "    .dataframe tbody tr th {\n",
       "        vertical-align: top;\n",
       "    }\n",
       "\n",
       "    .dataframe thead th {\n",
       "        text-align: right;\n",
       "    }\n",
       "</style>\n",
       "<table border=\"1\" class=\"dataframe\">\n",
       "  <thead>\n",
       "    <tr style=\"text-align: right;\">\n",
       "      <th></th>\n",
       "      <th>weight</th>\n",
       "      <th>10K cohort thrombolysis rate</th>\n",
       "      <th>Rank of weight</th>\n",
       "      <th>Rank of 10K cohort thrombolysis rate</th>\n",
       "      <th>admissions</th>\n",
       "      <th>admissions_rank</th>\n",
       "      <th>standardised0</th>\n",
       "      <th>standardised1</th>\n",
       "      <th>standardised1 * weight</th>\n",
       "      <th>Rank of standardised1 * weight</th>\n",
       "      <th>std1 * weight + sum hosps(std0 * weight)</th>\n",
       "      <th>Rank of [std1 * w + sum hosps(std0 * w)]</th>\n",
       "    </tr>\n",
       "  </thead>\n",
       "  <tbody>\n",
       "    <tr>\n",
       "      <th>FAJKD7118X</th>\n",
       "      <td>-0.053039</td>\n",
       "      <td>0.2096</td>\n",
       "      <td>18.0</td>\n",
       "      <td>39.0</td>\n",
       "      <td>1756</td>\n",
       "      <td>132.0</td>\n",
       "      <td>-0.150979</td>\n",
       "      <td>6.623455</td>\n",
       "      <td>-0.351302</td>\n",
       "      <td>39.0</td>\n",
       "      <td>-0.359932</td>\n",
       "      <td>39.0</td>\n",
       "    </tr>\n",
       "  </tbody>\n",
       "</table>\n",
       "</div>"
      ],
      "text/plain": [
       "              weight  10K cohort thrombolysis rate  Rank of weight  \\\n",
       "FAJKD7118X -0.053039                        0.2096            18.0   \n",
       "\n",
       "            Rank of 10K cohort thrombolysis rate  admissions  admissions_rank  \\\n",
       "FAJKD7118X                                  39.0        1756            132.0   \n",
       "\n",
       "            standardised0  standardised1  standardised1 * weight  \\\n",
       "FAJKD7118X      -0.150979       6.623455               -0.351302   \n",
       "\n",
       "            Rank of standardised1 * weight  \\\n",
       "FAJKD7118X                            39.0   \n",
       "\n",
       "            std1 * weight + sum hosps(std0 * weight)  \\\n",
       "FAJKD7118X                                 -0.359932   \n",
       "\n",
       "            Rank of [std1 * w + sum hosps(std0 * w)]  \n",
       "FAJKD7118X                                      39.0  "
      ]
     },
     "execution_count": 19,
     "metadata": {},
     "output_type": "execute_result"
    }
   ],
   "source": [
    "df_weights_thrombrate.loc[outlier_hosp.index]"
   ]
  },
  {
   "cell_type": "markdown",
   "id": "671759b3-dd55-464c-b7fa-77bdc17b661c",
   "metadata": {},
   "source": [
    "The reason is because the weight is negative, and so now the effect is opposite.\n",
    "\n",
    "For this hospital to have a higher thrombolysis rate than the weight implies, means it has a relatively smaller standardised value to represent \"1\" (which minimises the amount at which the thrombolysis is reduced, when the weight is negative). This is obtained by hospitals having larger admissions.\n",
    "\n",
    "#### In summary:\n",
    "##### Any point above the weight = 0 line:\n",
    "Expect blue admissions to the RHS of the 1:1 line, and yellow admissions to the LHS of the 1:1 line.\\\n",
    "(why expect blue points on RHS of the 1:1 line: the weights are positive and so want a smaller admission hospital to have a larger standardised value to push the weight to a larger than expected thrombolysis rate).\\\n",
    "##### Any point below the weight = 0 line:\n",
    "Expect yellow admissions to the RHS of the 1:1 line, and blue admissions to the LHS of the 1:1 line.\\\n",
    "(why expect yellow points on RHS of the 1:1 line: the weights are negative and so want a larger admission hospital to have a smaller standardised value to reduce the amount that the weight impedes the thrombolysis rate, and so end up with a larger than expected thrombolysis rate)."
   ]
  },
  {
   "cell_type": "markdown",
   "id": "f500219c-f930-42ab-9200-9cd8b5435eae",
   "metadata": {},
   "source": [
    "## The different order of the hosptial names\n",
    "To get the set of unique hospital names depends on which object you call\n",
    "\n",
    "train['StrokeTeam']: order of all the instances\n",
    "np.unique(train['StrokeTeam']): alphabetical\n",
    "set(train['StrokeTeam']): unordered, but shown alphabetical\n",
    "list(set(train['StrokeTeam'])): random order, can change\n",
    "\n",
    "When loop through all of the hospitals (to send each all the 10k patients in the test set to the same hosptial) it uses the order returned by list(set(train['StrokeTeam'])). By using the team name, the code finds the corresponding column in the dataframe column titles, and sets that column to all be 1 (the rest as zero).\n",
    "\n",
    "One hot columns are returned in alphabetical order (and so do not reflect the hosptial order in the \"StrokeTeam\" column, or the list(set()) order).\n",
    "\n",
    "When one hot the StrokeTeam column, the individual team columns are in alphabetical order. These are added to the model in that order.\n",
    "Feature weights for the hospitals are in hospital alphabetical order.\n",
    "Standardised data for the hospitals are in hospital alphabetical order."
   ]
  },
  {
   "cell_type": "markdown",
   "id": "b54122c6-f0ba-4947-bd84-9e3de81905fe",
   "metadata": {},
   "source": [
    "## Observations\n",
    "\n",
    "We discovered that when you standardise the dataset (the process of converting each feature independently to have a mean of 0 and standard deviation of 1), where one-hot features used to have a value of 0 and 1, they each now take a different pair of values. The resulting pair of values depends on how many instances have the value \"1\" for each hospital (effectively, the hospitals admission rate in the training set). The fewer patients the greater the standardised value for being one-hot. Therefore, with one-hot encoding the contribution of the ‘one hot’ feature depends on both the co-efficient and the standardised value for being one-hot. We cannot therefore take the logistic regression co-efficients in isoltaion and assume that they provide us with the relative importance."
   ]
  }
 ],
 "metadata": {
  "kernelspec": {
   "display_name": "Python 3 (ipykernel)",
   "language": "python",
   "name": "python3"
  },
  "language_info": {
   "codemirror_mode": {
    "name": "ipython",
    "version": 3
   },
   "file_extension": ".py",
   "mimetype": "text/x-python",
   "name": "python",
   "nbconvert_exporter": "python",
   "pygments_lexer": "ipython3",
   "version": "3.8.13"
  }
 },
 "nbformat": 4,
 "nbformat_minor": 5
}
