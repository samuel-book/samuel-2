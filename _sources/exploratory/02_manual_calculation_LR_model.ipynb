{
 "cells": [
  {
   "cell_type": "markdown",
   "id": "a98ed8fa",
   "metadata": {},
   "source": [
    "# Logistic regression: manual calculation of model probabilities from feature vales and model coefficients\n",
    "\n",
    "> *Motivation*: To be able to investigate (for debugging) the link between model weights, feature values, and predicted probability in a logistic regression model. \n",
    "\n",
    "This notebook shows you how to fit a logistic regression model using sklearn library. Then extract all of the necessary model components in order to calculate the model output using your own code (without calling the sklearn library)."
   ]
  },
  {
   "cell_type": "markdown",
   "id": "e868486f",
   "metadata": {},
   "source": [
    "## Import libraries"
   ]
  },
  {
   "cell_type": "code",
   "execution_count": 1,
   "id": "1bc166c1",
   "metadata": {},
   "outputs": [],
   "source": [
    "# Turn warnings off to keep notebook tidy\n",
    "import warnings\n",
    "warnings.filterwarnings(\"ignore\")\n",
    "\n",
    "import os\n",
    "import pandas as pd\n",
    "import numpy as np\n",
    "\n",
    "from pylab import *\n",
    "%matplotlib inline \n",
    "import matplotlib.pyplot as plt\n",
    "from matplotlib import colors\n",
    "from matplotlib import cm\n",
    "\n",
    "from sklearn.preprocessing import StandardScaler\n",
    "from sklearn.linear_model import LogisticRegression\n",
    "\n",
    "import math #used in the sigmoid function"
   ]
  },
  {
   "cell_type": "markdown",
   "id": "161eaca3",
   "metadata": {},
   "source": [
    "## Function to standardise data\n",
    "\n",
    "This converts all features to have a mean of 0 and a standard deviation of 1."
   ]
  },
  {
   "cell_type": "code",
   "execution_count": 2,
   "id": "07701917",
   "metadata": {},
   "outputs": [],
   "source": [
    "def standardise_data(X_train, X_test):\n",
    "    \"\"\"\n",
    "    Converts all data to a similar scale.\n",
    "    Standardisation subtracts mean and divides by standard deviation\n",
    "    for each feature.\n",
    "    Standardised data will have a mena of 0 and standard deviation of 1.\n",
    "    The training data mean and standard deviation is used to standardise both\n",
    "    training and test set data.\n",
    "    \"\"\"\n",
    "    \n",
    "    # Initialise a new scaling object for normalising input data\n",
    "    sc = StandardScaler() \n",
    "\n",
    "    # Set up the scaler just on the training set\n",
    "    sc.fit(X_train)\n",
    "\n",
    "    # Apply the scaler to the training and test sets\n",
    "    train_std=sc.transform(X_train)\n",
    "    test_std=sc.transform(X_test)\n",
    "    \n",
    "    return train_std, test_std"
   ]
  },
  {
   "cell_type": "markdown",
   "id": "947d8e92",
   "metadata": {},
   "source": [
    "## Load data"
   ]
  },
  {
   "cell_type": "code",
   "execution_count": 3,
   "id": "92cb2db6",
   "metadata": {},
   "outputs": [],
   "source": [
    "data_loc = '../data/10k_training_test/'\n",
    "\n",
    "train = pd.read_csv(data_loc + 'cohort_10000_train.csv')\n",
    "test = pd.read_csv(data_loc + 'cohort_10000_test.csv')"
   ]
  },
  {
   "cell_type": "markdown",
   "id": "d2a23da5",
   "metadata": {},
   "source": [
    "## Initialise global objects"
   ]
  },
  {
   "cell_type": "code",
   "execution_count": 4,
   "id": "f0a3bf7c",
   "metadata": {},
   "outputs": [],
   "source": [
    "hospitals = set(train['StrokeTeam'])\n",
    "hospital_loop_order = list(set(train['StrokeTeam']))\n",
    "\n",
    "n_hospitals = len(hospital_loop_order)\n",
    "n_patients = test.shape[0]"
   ]
  },
  {
   "cell_type": "markdown",
   "id": "33fd8e04",
   "metadata": {},
   "source": [
    "## Model: Logistic regression model. \n",
    "\n",
    "A logistic regression model trained using one-hot encoded hospitals"
   ]
  },
  {
   "cell_type": "markdown",
   "id": "1f65945b",
   "metadata": {},
   "source": [
    "### Train model"
   ]
  },
  {
   "cell_type": "code",
   "execution_count": 5,
   "id": "77ceb69b",
   "metadata": {},
   "outputs": [
    {
     "name": "stdout",
     "output_type": "stream",
     "text": [
      "Accuracy: 0.8261\n"
     ]
    }
   ],
   "source": [
    "# Get X and y\n",
    "X_train = train.drop('S2Thrombolysis', axis=1)\n",
    "X_test = test.drop('S2Thrombolysis', axis=1)\n",
    "y_train = train['S2Thrombolysis']\n",
    "y_test = test['S2Thrombolysis']\n",
    "\n",
    "# One hot encode hospitals\n",
    "list(X_train) == list(X_test)\n",
    "X_train_hosp = pd.get_dummies(X_train['StrokeTeam'], prefix = 'team')\n",
    "X_train = pd.concat([X_train, X_train_hosp], axis=1)\n",
    "X_train.drop('StrokeTeam', axis=1, inplace=True)\n",
    "X_test_hosp = pd.get_dummies(X_test['StrokeTeam'], prefix = 'team')\n",
    "X_test = pd.concat([X_test, X_test_hosp], axis=1)\n",
    "X_test.drop('StrokeTeam', axis=1, inplace=True)\n",
    "\n",
    "# Standardise X data\n",
    "X_train_std, X_test_std = standardise_data(X_train, X_test)\n",
    "\n",
    "# Store number of features\n",
    "n_features = X_test_std.shape[1]\n",
    "\n",
    "# Define model\n",
    "model = LogisticRegression(solver='lbfgs')\n",
    "\n",
    "# Fit model\n",
    "model.fit(X_train_std, y_train)\n",
    "\n",
    "# Get predicted probabilities and class\n",
    "y_probs = model.predict_proba(X_test_std)[:,1]\n",
    "y_pred = y_probs > 0.5\n",
    "\n",
    "# Show accuracy\n",
    "accuracy = np.mean(y_pred == y_test)\n",
    "print (f'Accuracy: {accuracy}')"
   ]
  },
  {
   "cell_type": "markdown",
   "id": "8786b85a-a21b-4493-8e7a-181f87a5be6b",
   "metadata": {},
   "source": [
    "### How to calculate the logistic regression output maunally\n",
    "\n",
    "Use the data to represent the test set outcome.\n",
    "\n",
    "X_test_std: the input values for the patients in the test set \\\n",
    "y_probs: the model output (probability) for the patients in the test set"
   ]
  },
  {
   "cell_type": "markdown",
   "id": "b772e95f-8afa-4d67-a3e5-8e8147980412",
   "metadata": {},
   "source": [
    "Used these online resources:\\\n",
    "https://stackoverflow.com/questions/18993867/scikit-learn-logistic-regression-model-coefficients-clarification \\\n",
    "https://stackoverflow.com/questions/3985619/how-to-calculate-a-logistic-sigmoid-function-in-python \\\n",
    "https://stackoverflow.com/questions/4050907/python-overflowerror-math-range-error \\"
   ]
  },
  {
   "cell_type": "code",
   "execution_count": 6,
   "id": "1ee45daa-725f-46a5-bb16-285bb74d86f8",
   "metadata": {},
   "outputs": [],
   "source": [
    "def sigmoid(x):\n",
    "    \"\"\"\n",
    "    return sigmoid of given value\n",
    "    \"\"\"\n",
    "    try:\n",
    "        ans = math.exp(x)\n",
    "    except OverflowError:\n",
    "        ans = float('inf')\n",
    "        \n",
    "    return (1 / (1 + ans))"
   ]
  },
  {
   "cell_type": "code",
   "execution_count": 7,
   "id": "1254b864-f269-4422-91ab-48ff289b1fa1",
   "metadata": {},
   "outputs": [
    {
     "data": {
      "text/plain": [
       "<AxesSubplot:xlabel='x', ylabel='y'>"
      ]
     },
     "execution_count": 7,
     "metadata": {},
     "output_type": "execute_result"
    },
    {
     "data": {
      "image/png": "[encoded data removed]",
      "text/plain": [
       "<Figure size 432x288 with 1 Axes>"
      ]
     },
     "metadata": {
      "needs_background": "light"
     },
     "output_type": "display_data"
    }
   ],
   "source": [
    "# initialise list to store result\n",
    "result = []\n",
    "\n",
    "# Get feature weights\n",
    "feature_weights = model.coef_[0]\n",
    "\n",
    "# calculate the LR outcome\n",
    "# Step 1. sumproduct of features with coefficient, plus intercept\n",
    "lr_arr = np.dot(X_test_std, feature_weights) + model.intercept_\n",
    "# Step 2. take one minus sigmoid of result\n",
    "result = [(1-sigmoid(i)) for i in lr_arr]\n",
    "\n",
    "# put data in dataframe for scatterplot\n",
    "df_temp = pd.DataFrame()\n",
    "df_temp['x'] = result\n",
    "df_temp['y'] = y_probs\n",
    "\n",
    "#plot scatter of model output vs manual calculation\n",
    "df_temp.plot.scatter(x='x', y='y')"
   ]
  },
  {
   "cell_type": "markdown",
   "id": "20f83d1a-670f-454a-9641-39f3eb9f5278",
   "metadata": {},
   "source": [
    "### Extra information"
   ]
  },
  {
   "cell_type": "markdown",
   "id": "8e0aea46-af83-4497-a67c-a807c9191564",
   "metadata": {},
   "source": [
    "Understand the sigmoid function"
   ]
  },
  {
   "cell_type": "code",
   "execution_count": 8,
   "id": "ed863293-7a28-4e16-bbc1-cefcce3542c3",
   "metadata": {},
   "outputs": [
    {
     "data": {
      "text/plain": [
       "<AxesSubplot:xlabel='x', ylabel='y'>"
      ]
     },
     "execution_count": 8,
     "metadata": {},
     "output_type": "execute_result"
    },
    {
     "data": {
      "image/png": "[encoded data removed]",
      "text/plain": [
       "<Figure size 432x288 with 1 Axes>"
      ]
     },
     "metadata": {
      "needs_background": "light"
     },
     "output_type": "display_data"
    }
   ],
   "source": [
    "# create values to plot\n",
    "arr = np.arange(-10, 10, 0.5)\n",
    "sigmoid_result = [(sigmoid(i)) for i in arr]\n",
    "\n",
    "# put data in dataframe for scatterplot\n",
    "df_temp = pd.DataFrame()\n",
    "df_temp['x'] = arr\n",
    "df_temp['y'] = sigmoid_result\n",
    "\n",
    "# plot scatter of model output vs manual calculation\n",
    "df_temp.plot.scatter(x='x', y='y')"
   ]
  },
  {
   "cell_type": "markdown",
   "id": "e97ba150-e518-4e04-a789-56fa0bc851a8",
   "metadata": {},
   "source": [
    "1 minus sigmoid"
   ]
  },
  {
   "cell_type": "code",
   "execution_count": 9,
   "id": "b74b45db-6856-486d-9cc7-7ad64c8b2f0f",
   "metadata": {},
   "outputs": [
    {
     "data": {
      "text/plain": [
       "<AxesSubplot:xlabel='x', ylabel='y'>"
      ]
     },
     "execution_count": 9,
     "metadata": {},
     "output_type": "execute_result"
    },
    {
     "data": {
      "image/png": "[encoded data removed]",
      "text/plain": [
       "<Figure size 432x288 with 1 Axes>"
      ]
     },
     "metadata": {
      "needs_background": "light"
     },
     "output_type": "display_data"
    }
   ],
   "source": [
    "# create values to plot\n",
    "arr = np.arange(-10, 10, 0.5)\n",
    "sigmoid_result = [(1-sigmoid(i)) for i in arr]\n",
    "\n",
    "# put data in dataframe for scatterplot\n",
    "df_temp = pd.DataFrame()\n",
    "df_temp['x'] = arr\n",
    "df_temp['y'] = sigmoid_result\n",
    "\n",
    "#plot scatter of model output vs manual calculation\n",
    "df_temp.plot.scatter(x='x', y='y')"
   ]
  }
 ],
 "metadata": {
  "kernelspec": {
   "display_name": "Python 3 (ipykernel)",
   "language": "python",
   "name": "python3"
  },
  "language_info": {
   "codemirror_mode": {
    "name": "ipython",
    "version": 3
   },
   "file_extension": ".py",
   "mimetype": "text/x-python",
   "name": "python",
   "nbconvert_exporter": "python",
   "pygments_lexer": "ipython3",
   "version": "3.8.13"
  }
 },
 "nbformat": 4,
 "nbformat_minor": 5
}
