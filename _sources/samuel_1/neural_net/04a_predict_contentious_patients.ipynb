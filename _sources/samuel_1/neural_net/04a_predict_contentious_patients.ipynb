{
 "cells": [
  {
   "cell_type": "markdown",
   "id": "3f30cb70-0730-42f5-9a07-eed54b925f62",
   "metadata": {},
   "source": [
    "## Train an embedding neural network to discern 'contentious patients' from those with high agreement to thrombolyse\n",
    "\n",
    "In this notebook we use a pre-trained model (embedding neural network with 1D embedding, use to test a 10k cohort of patients) to predict thrombolysis use of all patients at all hospitals. Patients are then split into three groups:\n",
    "\n",
    "* *Agree not to thrombolyse*: Few than 25% of hospitals would give thrombolysis\n",
    "* *Contentious*: 25% to 75% would give thrombolysis\n",
    "* *Agree to thrombolyse*: More than 75% of hospitals would give thrombolysis\n",
    "\n",
    "We then train an embedding neural network model (using patient and pwathway data subsets) to distinguisg between *Contentious* and *Agree to thrombolyse*. This is saved for more detailed analysis in a subsequent notebook."
   ]
  },
  {
   "cell_type": "markdown",
   "id": "c477c091-20d9-4f2c-a97f-9d87344f3f10",
   "metadata": {},
   "source": [
    "## Load libraries"
   ]
  },
  {
   "cell_type": "code",
   "execution_count": 1,
   "id": "a9712fe9-3f9e-4856-b34e-e87ac615abfe",
   "metadata": {},
   "outputs": [],
   "source": [
    "# Turn warnings off to keep notebook tidy\n",
    "import warnings\n",
    "warnings.filterwarnings(\"ignore\")\n",
    "\n",
    "import matplotlib.pyplot as plt\n",
    "import numpy as np\n",
    "import pandas as pd\n",
    "from IPython.display import clear_output\n",
    "\n",
    "# sklearn\n",
    "from sklearn.preprocessing import MinMaxScaler\n",
    "from sklearn.model_selection import train_test_split\n",
    "from sklearn.metrics import auc\n",
    "from sklearn.metrics import roc_curve\n",
    "\n",
    "# TensorFlow api model\n",
    "from tensorflow import keras\n",
    "from tensorflow.keras import layers\n",
    "from tensorflow.keras.models import Model\n",
    "from tensorflow.keras.optimizers import Adam\n",
    "from tensorflow.keras import backend as K\n",
    "from tensorflow.keras.losses import binary_crossentropy\n",
    "\n",
    "clear_output()"
   ]
  },
  {
   "cell_type": "markdown",
   "id": "d6814d0a-28f9-46db-8c5c-60c09ddaf13f",
   "metadata": {},
   "source": [
    "## Define function to scale data\n",
    "\n",
    "Scale input data 0-1 (MinMax scaling)."
   ]
  },
  {
   "cell_type": "code",
   "execution_count": 2,
   "id": "0732965d-dfa4-4f30-9ecd-541b7426e8b5",
   "metadata": {},
   "outputs": [],
   "source": [
    "def scale_data(X_train, X_test):\n",
    "    \"\"\"Scale data 0-1 based on min and max in training set\"\"\"\n",
    "    \n",
    "    # Initialise a new scaling object for normalising input data\n",
    "    sc = MinMaxScaler()\n",
    "\n",
    "    # Set up the scaler just on the training set\n",
    "    sc.fit(X_train)\n",
    "\n",
    "    # Apply the scaler to the training and test sets\n",
    "    train_sc = sc.transform(X_train)\n",
    "    test_sc = sc.transform(X_test)\n",
    "    \n",
    "    return train_sc, test_sc"
   ]
  },
  {
   "cell_type": "markdown",
   "id": "80f18fbb-85ab-4368-900e-a7625d625311",
   "metadata": {},
   "source": [
    "## Predict thrombolysis decision for 10K cohort"
   ]
  },
  {
   "cell_type": "code",
   "execution_count": 3,
   "id": "7fda3a24-8a98-4b90-9756-cebd6e0dd9a3",
   "metadata": {},
   "outputs": [],
   "source": [
    "# Load model\n",
    "path = './saved_models/1d_for_10k/'\n",
    "filename = f'{path}model.h5'\n",
    "model = keras.models.load_model(filename)\n",
    "\n",
    "# Clear TensorFlow output from cell\n",
    "clear_output()"
   ]
  },
  {
   "cell_type": "code",
   "execution_count": 4,
   "id": "ccd83bdf-8aa9-4123-9c1b-f878122ad3a9",
   "metadata": {},
   "outputs": [
    {
     "name": "stdout",
     "output_type": "stream",
     "text": [
      "Accuracy test 0.849\n"
     ]
    }
   ],
   "source": [
    "# Load data\n",
    "train = pd.read_csv(f'../../data/sam_1/10k_training_test/cohort_10000_train.csv')\n",
    "test = pd.read_csv(f'../../data/sam_1/10k_training_test/cohort_10000_test.csv')\n",
    "\n",
    "# Get data subgroups\n",
    "subgroups = pd.read_csv('../../data/sam_1/subnet.csv', index_col='Item')\n",
    "# Get list of clinical items\n",
    "clinical_subgroup = subgroups.loc[subgroups['Subnet']=='clinical']\n",
    "clinical_subgroup = list(clinical_subgroup.index)\n",
    "# Get list of pathway items\n",
    "pathway_subgroup = subgroups.loc[subgroups['Subnet']=='pathway']\n",
    "pathway_subgroup = list(pathway_subgroup.index)\n",
    "# Get list of hospital items\n",
    "hospital_subgroup = subgroups.loc[subgroups['Subnet']=='hospital']\n",
    "hospital_subgroup = list(hospital_subgroup.index)\n",
    "\n",
    "# OneHot encode stroke team\n",
    "coded = pd.get_dummies(train['StrokeTeam'])\n",
    "train = pd.concat([train, coded], axis=1)\n",
    "train.drop('StrokeTeam', inplace=True, axis=1)\n",
    "coded = pd.get_dummies(test['StrokeTeam'])\n",
    "test = pd.concat([test, coded], axis=1)\n",
    "test.drop('StrokeTeam', inplace=True, axis=1)\n",
    "\n",
    "# Split into X, y\n",
    "X_train_df = train.drop('S2Thrombolysis',axis=1) \n",
    "y_train_df = train['S2Thrombolysis']\n",
    "X_test_df = test.drop('S2Thrombolysis',axis=1) \n",
    "y_test_df = test['S2Thrombolysis'] \n",
    "\n",
    "# Split train and test data by subgroups\n",
    "X_train_patients = X_train_df[clinical_subgroup]\n",
    "X_test_patients = X_test_df[clinical_subgroup]\n",
    "X_train_pathway = X_train_df[pathway_subgroup]\n",
    "X_test_pathway = X_test_df[pathway_subgroup]\n",
    "X_train_hospitals = X_train_df[hospital_subgroup]\n",
    "X_test_hospitals = X_test_df[hospital_subgroup]\n",
    "\n",
    "# Convert to NumPy (Train is not used here; retained in case we want to use train later)\n",
    "X_train = X_train_df.values # Not used here\n",
    "X_test = X_test_df.values\n",
    "y_train = y_train_df.values # Not used here\n",
    "y_test = y_test_df.values\n",
    "\n",
    "# Scale data\n",
    "X_train_patients_sc, X_test_patients_sc = \\\n",
    "    scale_data(X_train_patients, X_test_patients)\n",
    "\n",
    "X_train_pathway_sc, X_test_pathway_sc = \\\n",
    "    scale_data(X_train_pathway, X_test_pathway)\n",
    "\n",
    "X_train_hospitals_sc, X_test_hospitals_sc = \\\n",
    "    scale_data(X_train_hospitals, X_test_hospitals)\n",
    "\n",
    "# Test model\n",
    "probability = model.predict(\n",
    "    [X_test_patients_sc, X_test_pathway_sc, X_test_hospitals_sc])\n",
    "\n",
    "y_pred_test = probability >= 0.5\n",
    "y_pred_test = y_pred_test.flatten()\n",
    "accuracy_test = np.mean(y_pred_test == y_test)\n",
    "\n",
    "# Clear TensorFlow output from cell and display accuracy\n",
    "clear_output()\n",
    "print(f'Accuracy test {accuracy_test:0.3f}')"
   ]
  },
  {
   "cell_type": "markdown",
   "id": "49d76e7d-2163-44eb-8692-b4b9994bb2fe",
   "metadata": {},
   "source": [
    "## Get predictions for thrombolysis use of all patients at each hospital\n",
    "\n",
    "Here we ask the counter-factual question - \"what treatment would a patient be expected to receive at each of the 132 hospitals?\".\n",
    "\n",
    "Hospital is one-hot encoded as input to the hospital subnet. To make a prediction of treatment at different hospitals we change the one-hot encoding of the hospital when making prediction.\n",
    "\n",
    "For each hospital we pass all patients, and record the proportion of the patients receiving thrombolysis at that hospital."
   ]
  },
  {
   "cell_type": "code",
   "execution_count": 5,
   "id": "51d09aae-683a-4197-be1b-a9b119ef8db9",
   "metadata": {},
   "outputs": [
    {
     "name": "stdout",
     "output_type": "stream",
     "text": [
      "132 out of 132\n"
     ]
    }
   ],
   "source": [
    "# Combine train and test sets\n",
    "X_comb_patients_sc = np.concatenate(\n",
    "    [X_train_patients_sc, X_test_patients_sc], axis=0)\n",
    "X_comb_hospitals_sc = np.concatenate(\n",
    "    [X_train_hospitals_sc, X_test_hospitals_sc], axis=0)\n",
    "X_comb_pathway_sc = np.concatenate(\n",
    "    [X_train_pathway_sc, X_test_pathway_sc], axis=0)\n",
    "\n",
    "# Get number of hospitals\n",
    "num_hospitals = len(X_comb_hospitals_sc[0])\n",
    "# Create test array for changing hospital ID\n",
    "X_hospitals_alter = X_comb_hospitals_sc.copy()\n",
    "# Get classification for all patients at all hospials\n",
    "patient_results = []\n",
    "\n",
    "# Loop through setting hospital\n",
    "hospital_results = []\n",
    "for hosp in range(num_hospitals):\n",
    "    clear_output()\n",
    "    print(f'{hosp+1} out of {num_hospitals}')\n",
    "    # Set all hospitals to zero\n",
    "    X_hospitals_alter[:,:] = 0\n",
    "    # Set test hospital to 1\n",
    "    X_hospitals_alter[:,hosp] = 1\n",
    "    # Get probability of thrombolysis\n",
    "    probability = model.predict(\n",
    "        [X_comb_patients_sc, X_comb_pathway_sc, X_hospitals_alter])\n",
    "    # Classify\n",
    "    classified = probability >= 0.5\n",
    "    patient_results.append(classified)\n",
    "    # Get average thrombolysis\n",
    "    thrombolysis = classified.mean()\n",
    "    hospital_results.append(thrombolysis)"
   ]
  },
  {
   "cell_type": "code",
   "execution_count": 6,
   "id": "08eb094b-98ad-4cf0-b5b2-1711ee0001d5",
   "metadata": {},
   "outputs": [],
   "source": [
    "# Store in dataframe\n",
    "patient_results_array = np.array(patient_results)[:,:,0].T\n",
    "patient_results_df = pd.DataFrame(\n",
    "    patient_results_array,columns=list(X_comb_hospitals_sc))\n",
    "# Save\n",
    "patient_results_df.to_csv('./output/all_patient_all_hosp_predictions.csv')"
   ]
  },
  {
   "cell_type": "markdown",
   "id": "6447d488-b774-4497-b5b6-c54a6220f42b",
   "metadata": {},
   "source": [
    "### Show split bettwern different groups"
   ]
  },
  {
   "cell_type": "code",
   "execution_count": 7,
   "id": "df0ef84b-b1d3-48d3-8ea5-12638dd3b68c",
   "metadata": {},
   "outputs": [
    {
     "data": {
      "text/plain": [
       "num_hospitals_thrombolysing    38.252643\n",
       "agree_no_thrombolysis           0.658814\n",
       "agree_give_thrombolysis         0.241904\n",
       "contentious_patients            0.099283\n",
       "dtype: float64"
      ]
     },
     "execution_count": 7,
     "metadata": {},
     "output_type": "execute_result"
    }
   ],
   "source": [
    "# Summarise results\n",
    "patient_summary = pd.DataFrame()\n",
    "# Get of hospitals giving thrombolysis to each patient\n",
    "num_hospitals_thrombolysing = patient_results_df.sum(axis=1)\n",
    "patient_summary['num_hospitals_thrombolysing'] = num_hospitals_thrombolysing\n",
    "# Get limits for 25% and 75% hospitals\n",
    "lower_limit = np.round(num_hospitals) * 0.25\n",
    "upper_limit = np.round(num_hospitals) * 0.75\n",
    "# Get high agreement patients\n",
    "agree_no_thrombolysis = num_hospitals_thrombolysing < lower_limit\n",
    "agree_give_thrombolysis = num_hospitals_thrombolysing > upper_limit\n",
    "# Get contentious patients\n",
    "contentious_patients = ((num_hospitals_thrombolysing >= lower_limit) & \n",
    "                        (num_hospitals_thrombolysing <= upper_limit))\n",
    "# Record in data frame\n",
    "patient_summary['agree_no_thrombolysis'] = agree_no_thrombolysis\n",
    "patient_summary['agree_give_thrombolysis'] = agree_give_thrombolysis\n",
    "patient_summary['contentious_patients'] = contentious_patients\n",
    "\n",
    "# Show means\n",
    "patient_summary.mean(axis=0)"
   ]
  },
  {
   "cell_type": "code",
   "execution_count": 8,
   "id": "584c489e-7261-403c-a40a-5d0e6c7e4204",
   "metadata": {},
   "outputs": [
    {
     "data": {
      "image/png": "[encoded data removed]",
      "text/plain": [
       "<Figure size 432x288 with 1 Axes>"
      ]
     },
     "metadata": {
      "needs_background": "light"
     },
     "output_type": "display_data"
    }
   ],
   "source": [
    "# Show count of number of hospitals who would give thrombolysis\n",
    "num_hospitals_thrombolysing.hist(bins=np.arange(0, num_hospitals+10, 10));"
   ]
  },
  {
   "cell_type": "markdown",
   "id": "59118afc-2432-42cb-9ddd-4b004381aec5",
   "metadata": {},
   "source": [
    "### Remove patients where there high agreement not to thrombolyse and save data\n",
    "\n",
    "We will then compare contentious vs. agree to thrombolyse"
   ]
  },
  {
   "cell_type": "code",
   "execution_count": 9,
   "id": "c3b23d76-e604-437c-a867-e0d5093a6e18",
   "metadata": {},
   "outputs": [
    {
     "name": "stdout",
     "output_type": "stream",
     "text": [
      "0.291\n"
     ]
    }
   ],
   "source": [
    "X_comb = pd.concat([X_train_df, X_test_df], axis=0)\n",
    "mask = agree_no_thrombolysis == False\n",
    "X_comb_patients_sc_thromb = X_comb_patients_sc[mask]\n",
    "X_comb_pathway_sc_thromb = X_comb_pathway_sc[mask]\n",
    "num_hospitals_thrombolysing_thromb = num_hospitals_thrombolysing[mask]\n",
    "X_comb_thromb = X_comb[mask.values]\n",
    "\n",
    "# Label contentious patients\n",
    "y_contentious = num_hospitals_thrombolysing_thromb <= upper_limit\n",
    "# Show proportion contentiosu patients (out of contentious or agree to thrombolyse)\n",
    "print(f'{y_contentious.mean():0.3f}')\n",
    "\n",
    "# Save contentious patients\n",
    "save_path = '../../data/sam_1/contentious_patients/'\n",
    "\n",
    "X_comb_thromb.to_csv(f'{save_path}X_contentious.csv', index=False)\n",
    "np.savetxt(f'{save_path}X_contentious_patients_sc.csv', \n",
    "           X_comb_patients_sc_thromb, delimiter=',')\n",
    "np.savetxt(f'{save_path}X_comb_pathway_sc_thromb.csv',\n",
    "           X_comb_pathway_sc_thromb, delimiter=',')\n",
    "np.savetxt(f'{save_path}num_hosp_thrombolysing.csv',\n",
    "           num_hospitals_thrombolysing_thromb, delimiter=',')\n",
    "np.savetxt(f'{save_path}contentious_y_label.csv',\n",
    "           y_contentious, delimiter=',')"
   ]
  },
  {
   "cell_type": "markdown",
   "id": "e2870352-a038-4725-a4ee-0b23062190c4",
   "metadata": {},
   "source": [
    "## Fit model to predict contentious patients (vs. agree to thrombolyse)"
   ]
  },
  {
   "cell_type": "markdown",
   "id": "de510705-c595-4327-955e-f27d3511baf6",
   "metadata": {},
   "source": [
    "### Split data\n",
    "\n",
    "Use NumPy binomial to be able to use a mask for different X components.\n",
    "Stata has already been scaled."
   ]
  },
  {
   "cell_type": "code",
   "execution_count": 10,
   "id": "6642b008-d797-469a-9d70-b5f775359ecd",
   "metadata": {},
   "outputs": [],
   "source": [
    "# Create masks for train and test\n",
    "number_patients = len(X_comb_thromb)\n",
    "number_in_test = int(number_patients * 0.2)\n",
    "number_in_train = number_patients - number_in_test\n",
    "\n",
    "np.random.state = 42\n",
    "mask = np.concatenate(\n",
    "    [np.ones(number_in_test), np.zeros(number_in_train)], axis=0)\n",
    "np.random.shuffle(mask)\n",
    "mask_train = mask == 0\n",
    "mask_test = mask == 1\n",
    "\n",
    "# Apply mask\n",
    "X_train_patients = X_comb_patients_sc_thromb[mask_train]\n",
    "X_test_patients = X_comb_patients_sc_thromb[mask_test]\n",
    "X_train_pathway = X_comb_pathway_sc_thromb[mask_train]\n",
    "X_test_pathway = X_comb_pathway_sc_thromb[mask_test]\n",
    "y_train = y_contentious[mask_train]\n",
    "y_test = y_contentious[mask_test]"
   ]
  },
  {
   "cell_type": "markdown",
   "id": "cdd9f070-a1c9-4363-af5a-a107fb36765c",
   "metadata": {},
   "source": [
    "### Define neural net\n",
    "\n",
    "Uses patient and pathway data, not hospital ID"
   ]
  },
  {
   "cell_type": "code",
   "execution_count": 11,
   "id": "5da8040c-edd2-4655-b057-05919d51645e",
   "metadata": {},
   "outputs": [],
   "source": [
    "def make_net(number_features_patient,\n",
    "             number_features_pathway,\n",
    "             patient_encoding_neurones=1,\n",
    "             pathway_encoding_neurones=1,\n",
    "              expansion=2, \n",
    "             learning_rate=0.003, \n",
    "             dropout=0.5):\n",
    "    \n",
    "    # Clear Tensorflow\n",
    "    K.clear_session()\n",
    "    \n",
    "    # Patient (clinical data) encoding layers\n",
    "    input_patient = layers.Input(shape=number_features_patient)\n",
    "    \n",
    "    # Patient dense layer 1\n",
    "    patient_dense_1 = layers.Dense(\n",
    "        number_features_patient * expansion, activation='relu')(input_patient)\n",
    "    patient_norm_1 = layers.BatchNormalization()(patient_dense_1)\n",
    "    patient_dropout_1 = layers.Dropout(dropout)(patient_norm_1)\n",
    "    \n",
    "    # Patient encoding layer\n",
    "    patient_encoding = layers.Dense(\n",
    "        patient_encoding_neurones, activation='sigmoid', \n",
    "        name='patient_encode')(patient_dropout_1)    \n",
    "    \n",
    "    # Pathway encoding layers\n",
    "    input_pathway = layers.Input(shape=number_features_pathway)\n",
    "    \n",
    "    # pathway dense layer 1\n",
    "    pathway_dense_1 = layers.Dense(\n",
    "        number_features_pathway * expansion, activation='relu')(input_pathway)\n",
    "    pathway_norm_1 = layers.BatchNormalization()(pathway_dense_1)\n",
    "    pathway_dropout_1 = layers.Dropout(dropout)(pathway_norm_1)\n",
    "    \n",
    "    # pathway encoding layer\n",
    "    pathway_encoding = layers.Dense(\n",
    "        pathway_encoding_neurones, activation='sigmoid', \n",
    "        name='pathway_encode')(pathway_dropout_1)    \n",
    " \n",
    "    # Concatenation layer\n",
    "    concat = layers.Concatenate()(\n",
    "        [patient_encoding, pathway_encoding])\n",
    "    \n",
    "    # Outpout (single sigmoid)\n",
    "    outputs = layers.Dense(1, activation='sigmoid')(concat)\n",
    "    \n",
    "    # Build net\n",
    "    net = Model(inputs=[\n",
    "        input_patient, input_pathway], outputs=outputs)\n",
    "    \n",
    "    # Compiling model\n",
    "    opt = Adam(lr=learning_rate)\n",
    "    net.compile(loss='binary_crossentropy',\n",
    "    optimizer=opt,\n",
    "    metrics=['accuracy'])\n",
    "    return net"
   ]
  },
  {
   "cell_type": "markdown",
   "id": "470d61d8-287d-4c86-bbaf-15af70fe271b",
   "metadata": {},
   "source": [
    "### Fit model"
   ]
  },
  {
   "cell_type": "code",
   "execution_count": 12,
   "id": "b5cf1135-7535-434a-b0de-48fea7f4db23",
   "metadata": {},
   "outputs": [
    {
     "name": "stdout",
     "output_type": "stream",
     "text": [
      "Accuracy train 0.956 Accuracy test 0.947\n"
     ]
    },
    {
     "data": {
      "image/png": "[encoded data removed]",
      "text/plain": [
       "<Figure size 432x288 with 1 Axes>"
      ]
     },
     "metadata": {
      "needs_background": "light"
     },
     "output_type": "display_data"
    }
   ],
   "source": [
    "# Define network\n",
    "number_features_patient = X_train_patients_sc.shape[1]\n",
    "number_features_pathway = X_train_pathway_sc.shape[1]\n",
    "\n",
    "model = make_net(\n",
    "    number_features_patient, \n",
    "    number_features_pathway)\n",
    "\n",
    "# Define save checkpoint callback (only save if new best validation results)\n",
    "checkpoint_cb = keras.callbacks.ModelCheckpoint(\n",
    "    'model_checkpoint_1d.h5', save_best_only=True)\n",
    "\n",
    "# Define early stopping callback: Stop when no validation improvement\n",
    "# Restore weights to best validation accuracy\n",
    "early_stopping_cb = keras.callbacks.EarlyStopping(\n",
    "    patience=100, restore_best_weights=True)\n",
    "\n",
    "# Train model (including class weights)\n",
    "history = model.fit(\n",
    "    [X_train_patients, X_train_pathway],\n",
    "    y_train,\n",
    "    epochs=10000,\n",
    "    batch_size=32,\n",
    "    validation_data=(\n",
    "        [X_test_patients, X_test_pathway], \n",
    "        y_test),\n",
    "    verbose=0,\n",
    "    callbacks=[checkpoint_cb, early_stopping_cb])\n",
    "\n",
    "### Test model\n",
    "probability = model.predict(\n",
    "    [X_train_patients, X_train_pathway])\n",
    "y_pred_train = probability >= 0.5\n",
    "y_pred_train = y_pred_train.flatten()\n",
    "accuracy_train = np.mean(y_pred_train == y_train)\n",
    "print(f'Accuracy train {accuracy_train:0.3f}', end=' ')\n",
    "\n",
    "probability = model.predict(\n",
    "    [X_test_patients, X_test_pathway])\n",
    "y_pred_test = probability >= 0.5\n",
    "y_pred_test = y_pred_test.flatten()\n",
    "accuracy_test = np.mean(y_pred_test == y_test)\n",
    "print(f'Accuracy test {accuracy_test:0.3f}')\n",
    "\n",
    "# save model\n",
    "path = './saved_models/contentious_patient/'\n",
    "filename = f'{path}contentious_patient_model.h5'\n",
    "model.save(filename);\n",
    "\n",
    "# Plot training accuracy\n",
    "history_dict = history.history\n",
    "\n",
    "acc_values = history_dict['accuracy']\n",
    "val_acc_values = history_dict['val_accuracy']\n",
    "epochs = range(1, len(acc_values) + 1)\n",
    "\n",
    "plt.plot(epochs, acc_values, 'bo', label='Training acc')\n",
    "plt.plot(epochs, val_acc_values, 'b', label='Test accuracy')\n",
    "plt.title('Training and validation accuracy')\n",
    "plt.xlabel('Epochs')\n",
    "plt.ylabel('Accuracy')\n",
    "plt.legend()\n",
    "\n",
    "plt.show()"
   ]
  },
  {
   "cell_type": "markdown",
   "id": "82a40f85-5405-4d5e-8fdc-8985d9886bb0",
   "metadata": {},
   "source": [
    "### Test performance with Receiver Operator Characteristic Curve"
   ]
  },
  {
   "cell_type": "code",
   "execution_count": 13,
   "id": "eb694268-a3c4-4819-9702-8b9f712743dd",
   "metadata": {},
   "outputs": [
    {
     "name": "stdout",
     "output_type": "stream",
     "text": [
      "AUC 0.9886\n"
     ]
    }
   ],
   "source": [
    "# Get fpr, tpr and thresholds foir each k-fold from scikit-learn's ROC method\n",
    "fpr, tpr, thresholds = roc_curve(y_test, probability)\n",
    "# Use scikit-learn's method for calulcating auc\n",
    "roc_auc = auc(fpr, tpr)\n",
    "# Print auc result\n",
    "print (f'AUC {roc_auc:0.4f}')"
   ]
  },
  {
   "cell_type": "code",
   "execution_count": 14,
   "id": "b884c403-f24d-4e0a-879e-9b01e5fb3a0e",
   "metadata": {},
   "outputs": [
    {
     "data": {
      "image/png": "[encoded data removed]",
      "text/plain": [
       "<Figure size 432x432 with 1 Axes>"
      ]
     },
     "metadata": {
      "needs_background": "light"
     },
     "output_type": "display_data"
    }
   ],
   "source": [
    "fig = plt.figure(figsize=(6,6))\n",
    "\n",
    "# Plot ROC\n",
    "ax1 = fig.add_subplot()\n",
    "ax1.plot(fpr, tpr, color='orange')\n",
    "ax1.plot([0, 1], [0, 1], color='darkblue', linestyle='--')\n",
    "ax1.set_xlabel('False Positive Rate')\n",
    "ax1.set_ylabel('True Positive Rate')\n",
    "ax1.set_title('Receiver Operator Characteristic Curve')\n",
    "text = f'AUC: {roc_auc:.3f}'\n",
    "ax1.text(0.64,0.07, text, \n",
    "         bbox=dict(facecolor='white', edgecolor='black'))\n",
    "plt.grid(True)\n",
    "plt.show()"
   ]
  }
 ],
 "metadata": {
  "kernelspec": {
   "display_name": "Python 3 (ipykernel)",
   "language": "python",
   "name": "python3"
  },
  "language_info": {
   "codemirror_mode": {
    "name": "ipython",
    "version": 3
   },
   "file_extension": ".py",
   "mimetype": "text/x-python",
   "name": "python",
   "nbconvert_exporter": "python",
   "pygments_lexer": "ipython3",
   "version": "3.8.12"
  }
 },
 "nbformat": 4,
 "nbformat_minor": 5
}
