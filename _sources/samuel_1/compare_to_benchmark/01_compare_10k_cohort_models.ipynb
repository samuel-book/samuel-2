{
 "cells": [
  {
   "cell_type": "markdown",
   "id": "e28d7344-7e4a-4a28-bf35-a86211b7bf7f",
   "metadata": {},
   "source": [
    "# A comparison of 10K corhort thrombolysis rates across hospitals using different model types\n",
    "\n",
    "Here we train models either by training independent models for each hospital, or by one-coding hospitals and training a single model.\n",
    "\n",
    "The use of thrombolysis in an independent 10K corhort may then be predicted at each hospital by either selecting the individual hospital model for that hospital, or by changing the one-hot encoding to mimic all those 10K patients attending each hospital.\n",
    "\n",
    "We test three model types (each with both hospital-level models or a single model with one-hot hospital encoding):\n",
    "\n",
    "* Random forest\n",
    "* XG Boost\n",
    "* Logistic regression"
   ]
  },
  {
   "cell_type": "markdown",
   "id": "cad56ee2-06be-433d-b5f6-49639e8dbafb",
   "metadata": {},
   "source": [
    "## Import libraries"
   ]
  },
  {
   "cell_type": "code",
   "execution_count": 1,
   "id": "6daa1e72-cd0b-4035-be66-43a234ddca8a",
   "metadata": {},
   "outputs": [],
   "source": [
    "# Turn warnings off to keep notebook tidy\n",
    "import warnings\n",
    "warnings.filterwarnings(\"ignore\")\n",
    "\n",
    "import os\n",
    "import pandas as pd\n",
    "import numpy as np\n",
    "import pickle as pkl\n",
    "import matplotlib.pyplot as plt\n",
    "\n",
    "from sklearn.preprocessing import StandardScaler\n",
    "from sklearn.linear_model import LogisticRegression\n",
    "from sklearn.ensemble import RandomForestClassifier\n",
    "from sklearn.metrics import auc\n",
    "from sklearn.metrics import roc_curve\n",
    "\n",
    "from xgboost import XGBClassifier"
   ]
  },
  {
   "cell_type": "markdown",
   "id": "625dcf58-e621-4617-9c85-37b1c8e37feb",
   "metadata": {},
   "source": [
    "## Function to standardise data"
   ]
  },
  {
   "cell_type": "code",
   "execution_count": 2,
   "id": "051b1305-6ca6-4b04-a766-8b4e5c56f0db",
   "metadata": {},
   "outputs": [],
   "source": [
    "def standardise_data(X_train, X_test):\n",
    "    \"\"\"\n",
    "    Converts all data to a similar scale.\n",
    "    Standardisation subtracts mean and divides by standard deviation\n",
    "    for each feature.\n",
    "    Standardised data will have a mena of 0 and standard deviation of 1.\n",
    "    The training data mean and standard deviation is used to standardise both\n",
    "    training and test set data.\n",
    "    \"\"\"\n",
    "    \n",
    "    # Initialise a new scaling object for normalising input data\n",
    "    sc = StandardScaler() \n",
    "\n",
    "    # Set up the scaler just on the training set\n",
    "    sc.fit(X_train)\n",
    "\n",
    "    # Apply the scaler to the training and test sets\n",
    "    train_std=sc.transform(X_train)\n",
    "    test_std=sc.transform(X_test)\n",
    "    \n",
    "    return train_std, test_std"
   ]
  },
  {
   "cell_type": "markdown",
   "id": "94556518-b8e0-4f97-b3bf-57bcea8e391a",
   "metadata": {},
   "source": [
    "## Load data"
   ]
  },
  {
   "cell_type": "code",
   "execution_count": 3,
   "id": "094e69f6-3897-4da4-a838-fabe0b9baaa4",
   "metadata": {},
   "outputs": [],
   "source": [
    "data_loc = '../../data/sam_1/10k_training_test/'\n",
    "\n",
    "train = pd.read_csv(data_loc + 'cohort_10000_train.csv')\n",
    "test = pd.read_csv(data_loc + 'cohort_10000_test.csv')"
   ]
  },
  {
   "cell_type": "markdown",
   "id": "87d4dd4e-fba0-4496-97ff-74417bd2380a",
   "metadata": {},
   "source": [
    "## Random forest model trained for each hospital"
   ]
  },
  {
   "cell_type": "code",
   "execution_count": 4,
   "id": "26dc30b5-aa66-40f4-9a89-aaa96653245e",
   "metadata": {},
   "outputs": [
    {
     "name": "stdout",
     "output_type": "stream",
     "text": [
      "132\n",
      "Accuracy: 0.83\n"
     ]
    }
   ],
   "source": [
    "hospitals = set(train['StrokeTeam'])\n",
    "counter = 0\n",
    "models = dict()\n",
    "observed = []\n",
    "predicted = []\n",
    "\n",
    "for hospital in hospitals:\n",
    "    counter += 1\n",
    "    print(f'\\r{counter}', end='') \n",
    "    \n",
    "    # Get hospital data\n",
    "    mask = train['StrokeTeam'] == hospital\n",
    "    X_train_hosp = train[mask].drop(['S2Thrombolysis', 'StrokeTeam'], axis=1)\n",
    "    y_train = train[mask]['S2Thrombolysis']\n",
    "    \n",
    "    mask = test['StrokeTeam'] == hospital\n",
    "    X_test_hosp = test[mask].drop(['S2Thrombolysis', 'StrokeTeam'], axis=1)\n",
    "    y_test = test[mask]['S2Thrombolysis']\n",
    "    \n",
    "    # Define model\n",
    "    model = RandomForestClassifier(\n",
    "        n_estimators=100, n_jobs=-1, class_weight='balanced', random_state=42)\n",
    "\n",
    "    # Fit model\n",
    "    model.fit(X_train_hosp, y_train)\n",
    "    \n",
    "    # Save to dictionary\n",
    "    models[hospital] = model\n",
    "    \n",
    "    # Get predicted probabilities and class\n",
    "    y_probs = model.predict_proba(X_test_hosp)[:,1]\n",
    "    y_pred = y_probs > 0.5\n",
    "    \n",
    "    # Store results\n",
    "    observed.extend(y_test.values)\n",
    "    predicted.extend(y_pred * 1)\n",
    "    \n",
    " # Show accuracy\n",
    "accuracy = np.mean(np.array(observed) == np.array(predicted))\n",
    "print (f'\\nAccuracy: {accuracy:0.2f}')"
   ]
  },
  {
   "cell_type": "markdown",
   "id": "7bbe25ea-a59a-4c12-90ba-22becd097105",
   "metadata": {},
   "source": [
    "### Pass 10k cohort through all hospital models and get thrombolysis rate"
   ]
  },
  {
   "cell_type": "code",
   "execution_count": 5,
   "id": "2f26e7cd-b255-46ef-8278-cd7125718570",
   "metadata": {},
   "outputs": [],
   "source": [
    "hospitals = set(train['StrokeTeam'])\n",
    "thrombolysis_rate = []\n",
    "\n",
    "# Get X and y\n",
    "X_train = train.drop(['S2Thrombolysis', 'StrokeTeam'], axis=1)\n",
    "X_test = test.drop(['S2Thrombolysis', 'StrokeTeam'], axis=1)\n",
    "\n",
    "for hospital in hospitals:\n",
    "    \n",
    "    # Get hospital model\n",
    "    model = models[hospital]\n",
    "    \n",
    "    # Get predicted probabilities and class\n",
    "    y_probs = model.predict_proba(X_test)[:,1]\n",
    "    y_pred = y_probs > 0.5\n",
    "    thrombolysis_rate.append(y_pred.mean())\n",
    "    \n",
    "rf_multi = thrombolysis_rate"
   ]
  },
  {
   "cell_type": "markdown",
   "id": "d6e7e54d-0495-42dc-84e7-cea5ff9d6c06",
   "metadata": {},
   "source": [
    "### Plot thrombolysis rate of 10K cohort at each hospital"
   ]
  },
  {
   "cell_type": "code",
   "execution_count": 6,
   "id": "766cc1af-7b5d-4b6b-87e9-59b2dae63b46",
   "metadata": {},
   "outputs": [
    {
     "data": {
      "image/png": "[encoded data removed]",
      "text/plain": [
       "<Figure size 432x432 with 1 Axes>"
      ]
     },
     "metadata": {
      "needs_background": "light"
     },
     "output_type": "display_data"
    }
   ],
   "source": [
    "fig = plt.figure(figsize=(6,6))\n",
    "ax = fig.add_subplot()\n",
    "ax.hist(thrombolysis_rate)\n",
    "ax.set_xlabel('Thrombolysis rate')\n",
    "ax.set_ylabel('Count')\n",
    "plt.show()"
   ]
  },
  {
   "cell_type": "markdown",
   "id": "c853b4b0-bbcc-40a1-9015-81d49a819ed7",
   "metadata": {},
   "source": [
    "### Show stats"
   ]
  },
  {
   "cell_type": "code",
   "execution_count": 7,
   "id": "124e1386-d106-4de4-a1aa-8e844e7c0717",
   "metadata": {},
   "outputs": [
    {
     "name": "stdout",
     "output_type": "stream",
     "text": [
      "Mean: 0.186\n",
      "StDev: 0.094\n"
     ]
    }
   ],
   "source": [
    "mean = np.mean(thrombolysis_rate)\n",
    "stdev = np.std(thrombolysis_rate)\n",
    "\n",
    "print (f'Mean: {mean:0.3f}')\n",
    "print (f'StDev: {stdev:0.3f}')"
   ]
  },
  {
   "cell_type": "markdown",
   "id": "fe2cbaa0-13db-4f2d-a006-0f0db152f25c",
   "metadata": {},
   "source": [
    "## Single Random Forest Model\n",
    "\n",
    "Random forest model trained using one-hot encoded hospitals\n",
    "\n",
    "### Train model"
   ]
  },
  {
   "cell_type": "code",
   "execution_count": 8,
   "id": "0db775fb-5817-4b5c-8fb3-db0d178dc2e7",
   "metadata": {},
   "outputs": [
    {
     "name": "stdout",
     "output_type": "stream",
     "text": [
      "Accuracy: 0.8422\n"
     ]
    }
   ],
   "source": [
    "# Get X and y\n",
    "X_train = train.drop('S2Thrombolysis', axis=1)\n",
    "X_test = test.drop('S2Thrombolysis', axis=1)\n",
    "y_train = train['S2Thrombolysis']\n",
    "y_test = test['S2Thrombolysis']\n",
    "\n",
    "# One hot encode hospitals\n",
    "X_train_hosp = pd.get_dummies(X_train['StrokeTeam'], prefix = 'team')\n",
    "X_train = pd.concat([X_train, X_train_hosp], axis=1)\n",
    "X_train.drop('StrokeTeam', axis=1, inplace=True)\n",
    "X_test_hosp = pd.get_dummies(X_test['StrokeTeam'], prefix = 'team')\n",
    "X_test = pd.concat([X_test, X_test_hosp], axis=1)\n",
    "X_test.drop('StrokeTeam', axis=1, inplace=True)    \n",
    "\n",
    "# Define model\n",
    "model = RandomForestClassifier(\n",
    "    n_estimators=100, n_jobs=-1, class_weight='balanced', random_state=42)\n",
    "\n",
    "# Fit model\n",
    "model.fit(X_train, y_train)\n",
    "\n",
    "# Get predicted probabilities and class\n",
    "y_probs = model.predict_proba(X_test)[:,1]\n",
    "y_pred = y_probs > 0.5\n",
    "\n",
    "# Show accuracy\n",
    "accuracy = np.mean(y_pred == y_test)\n",
    "print (f'Accuracy: {accuracy}')"
   ]
  },
  {
   "cell_type": "markdown",
   "id": "2dc0b057-8997-440e-921d-843e50182e36",
   "metadata": {},
   "source": [
    "### Pass 10k cohort through all hospital models and get thrombolysis rate"
   ]
  },
  {
   "cell_type": "code",
   "execution_count": 9,
   "id": "079af07e-73ec-4c53-882b-6d0f48f3016b",
   "metadata": {
    "tags": []
   },
   "outputs": [],
   "source": [
    "hospitals = set(train['StrokeTeam'])\n",
    "thrombolysis_rate = []\n",
    "\n",
    "for hospital in hospitals:\n",
    "    \n",
    "    # Get test data without thrombolysis hospital or stroke team\n",
    "    X_test_no_hosp = test.drop(['S2Thrombolysis', 'StrokeTeam'], axis=1)\n",
    "    \n",
    "    # Copy hospital dataframe and change hospital ID (after setting all to zero)\n",
    "    X_test_adjusted_hospital = X_test_hosp.copy()\n",
    "    X_test_adjusted_hospital.loc[:,:] = 0\n",
    "    team = \"team_\" + hospital\n",
    "    X_test_adjusted_hospital[team] = 1\n",
    "    \n",
    "    X_test_adjusted = pd.concat(\n",
    "        [X_test_no_hosp, X_test_adjusted_hospital], axis=1)\n",
    "    \n",
    "    # Get predicted probabilities and class\n",
    "    y_probs = model.predict_proba(X_test_adjusted)[:,1]\n",
    "    y_pred = y_probs > 0.5\n",
    "    thrombolysis_rate.append(y_pred.mean())\n",
    "    \n",
    "rf_single = thrombolysis_rate"
   ]
  },
  {
   "cell_type": "code",
   "execution_count": null,
   "id": "a8ea54ac-d781-46c2-b971-8c524490408c",
   "metadata": {},
   "outputs": [],
   "source": []
  },
  {
   "cell_type": "markdown",
   "id": "136f8565-aa02-465b-9376-a99028d405bb",
   "metadata": {},
   "source": [
    "### Plot thrombolysis rate of 10K cohort at each hospital"
   ]
  },
  {
   "cell_type": "code",
   "execution_count": 10,
   "id": "5de133d3-6e67-47fb-b259-20a2c6230cd2",
   "metadata": {},
   "outputs": [
    {
     "data": {
      "image/png": "[encoded data removed]",
      "text/plain": [
       "<Figure size 432x432 with 1 Axes>"
      ]
     },
     "metadata": {
      "needs_background": "light"
     },
     "output_type": "display_data"
    }
   ],
   "source": [
    "fig = plt.figure(figsize=(6,6))\n",
    "ax = fig.add_subplot()\n",
    "ax.hist(thrombolysis_rate)\n",
    "ax.set_xlabel('Thrombolysis rate')\n",
    "ax.set_ylabel('Count')\n",
    "plt.show()"
   ]
  },
  {
   "cell_type": "markdown",
   "id": "e5b93ea6-9b64-447c-a6fd-45095c91c91e",
   "metadata": {},
   "source": [
    "### Show stats"
   ]
  },
  {
   "cell_type": "code",
   "execution_count": 11,
   "id": "437fbe0c-1acf-405b-8449-e3adb4c0f42f",
   "metadata": {},
   "outputs": [
    {
     "name": "stdout",
     "output_type": "stream",
     "text": [
      "Mean: 0.263\n",
      "StDev: 0.006\n"
     ]
    }
   ],
   "source": [
    "mean = np.mean(thrombolysis_rate)\n",
    "stdev = np.std(thrombolysis_rate)\n",
    "\n",
    "print (f'Mean: {mean:0.3f}')\n",
    "print (f'StDev: {stdev:0.3f}')"
   ]
  },
  {
   "cell_type": "markdown",
   "id": "e54cd8a5-f6ca-4b6c-955b-ad53e5b6bc2e",
   "metadata": {},
   "source": [
    "### XG Boost model fitted to each hospital"
   ]
  },
  {
   "cell_type": "code",
   "execution_count": 12,
   "id": "918e820a",
   "metadata": {},
   "outputs": [
    {
     "name": "stdout",
     "output_type": "stream",
     "text": [
      "132\n",
      "Accuracy: 0.83\n"
     ]
    }
   ],
   "source": [
    "hospitals = set(train['StrokeTeam'])\n",
    "counter = 0\n",
    "models = dict()\n",
    "observed = []\n",
    "predicted = []\n",
    "\n",
    "for hospital in hospitals:\n",
    "    counter += 1\n",
    "    print(f'\\r{counter}', end='') \n",
    "    \n",
    "    # Get hospital data\n",
    "    mask = train['StrokeTeam'] == hospital\n",
    "    X_train_hosp = train[mask].drop(['S2Thrombolysis', 'StrokeTeam'], axis=1)\n",
    "    y_train = train[mask]['S2Thrombolysis']\n",
    "    \n",
    "    mask = test['StrokeTeam'] == hospital\n",
    "    X_test_hosp = test[mask].drop(['S2Thrombolysis', 'StrokeTeam'], axis=1)\n",
    "    y_test = test[mask]['S2Thrombolysis']\n",
    "    \n",
    "    # Define model\n",
    "    model = XGBClassifier(verbosity = 0)\n",
    "\n",
    "    # Fit model\n",
    "    model.fit(X_train_hosp, y_train)\n",
    "    \n",
    "    # Save to dictionary\n",
    "    models[hospital] = model\n",
    "    \n",
    "    # Get predicted probabilities and class\n",
    "    y_probs = model.predict_proba(X_test_hosp)[:,1]\n",
    "    y_pred = y_probs > 0.5\n",
    "    \n",
    "    # Store results\n",
    "    observed.extend(y_test.values)\n",
    "    predicted.extend(y_pred * 1)\n",
    "    \n",
    " # Show accuracy\n",
    "accuracy = np.mean(np.array(observed) == np.array(predicted))\n",
    "print (f'\\nAccuracy: {accuracy:0.2f}')"
   ]
  },
  {
   "cell_type": "markdown",
   "id": "f0b5c3de-f796-4074-bad6-cb8d5b761e35",
   "metadata": {},
   "source": [
    "### Pass 10k cohort through all hospital models and get thrombolysis rate"
   ]
  },
  {
   "cell_type": "code",
   "execution_count": 13,
   "id": "03415997",
   "metadata": {},
   "outputs": [],
   "source": [
    "hospitals = set(train['StrokeTeam'])\n",
    "thrombolysis_rate = []\n",
    "\n",
    "# Get X and y\n",
    "X_train = train.drop(['S2Thrombolysis', 'StrokeTeam'], axis=1)\n",
    "X_test = test.drop(['S2Thrombolysis', 'StrokeTeam'], axis=1)\n",
    "\n",
    "for hospital in hospitals:\n",
    "    \n",
    "    # Get hospital model\n",
    "    model = models[hospital]\n",
    "    \n",
    "    # Get predicted probabilities and class\n",
    "    y_probs = model.predict_proba(X_test)[:,1]\n",
    "    y_pred = y_probs > 0.5\n",
    "    thrombolysis_rate.append(y_pred.mean())\n",
    "    \n",
    "xgb_multi = thrombolysis_rate"
   ]
  },
  {
   "cell_type": "markdown",
   "id": "004c9499-cf33-47ad-9a70-19f0987afa8b",
   "metadata": {},
   "source": [
    "### Plot thrombolysis rate of 10K cohort at each hospital"
   ]
  },
  {
   "cell_type": "code",
   "execution_count": 14,
   "id": "b943dba8",
   "metadata": {},
   "outputs": [
    {
     "data": {
      "image/png": "[encoded data removed]",
      "text/plain": [
       "<Figure size 432x432 with 1 Axes>"
      ]
     },
     "metadata": {
      "needs_background": "light"
     },
     "output_type": "display_data"
    }
   ],
   "source": [
    "fig = plt.figure(figsize=(6,6))\n",
    "ax = fig.add_subplot()\n",
    "ax.hist(thrombolysis_rate)\n",
    "ax.set_xlabel('Thrombolysis rate')\n",
    "ax.set_ylabel('Count')\n",
    "plt.show()"
   ]
  },
  {
   "cell_type": "markdown",
   "id": "1d692f74-cefd-452c-be84-45a17dffed2a",
   "metadata": {},
   "source": [
    "### Show stats"
   ]
  },
  {
   "cell_type": "code",
   "execution_count": 15,
   "id": "5a9b3dca-3bee-4fc6-80fc-36d1b9fb5855",
   "metadata": {},
   "outputs": [
    {
     "name": "stdout",
     "output_type": "stream",
     "text": [
      "Mean: 0.257\n",
      "StDev: 0.080\n"
     ]
    }
   ],
   "source": [
    "mean = np.mean(thrombolysis_rate)\n",
    "stdev = np.std(thrombolysis_rate)\n",
    "\n",
    "print (f'Mean: {mean:0.3f}')\n",
    "print (f'StDev: {stdev:0.3f}')"
   ]
  },
  {
   "cell_type": "markdown",
   "id": "4fb4512b-d282-4874-bfcc-67d0aed4b472",
   "metadata": {},
   "source": [
    "## Single XG Boost Model\n",
    "\n",
    "### Train model"
   ]
  },
  {
   "cell_type": "code",
   "execution_count": 16,
   "id": "41f585ce-8199-4523-a9bc-47c6e259b64d",
   "metadata": {},
   "outputs": [
    {
     "name": "stdout",
     "output_type": "stream",
     "text": [
      "Accuracy: 0.8528\n"
     ]
    }
   ],
   "source": [
    "# Get X and y\n",
    "X_train = train.drop('S2Thrombolysis', axis=1)\n",
    "X_test = test.drop('S2Thrombolysis', axis=1)\n",
    "y_train = train['S2Thrombolysis']\n",
    "y_test = test['S2Thrombolysis']\n",
    "\n",
    "# One hot encode hospitals\n",
    "X_train_hosp = pd.get_dummies(X_train['StrokeTeam'], prefix = 'team')\n",
    "X_train = pd.concat([X_train, X_train_hosp], axis=1)\n",
    "X_train.drop('StrokeTeam', axis=1, inplace=True)\n",
    "X_test_hosp = pd.get_dummies(X_test['StrokeTeam'], prefix = 'team')\n",
    "X_test = pd.concat([X_test, X_test_hosp], axis=1)\n",
    "X_test.drop('StrokeTeam', axis=1, inplace=True)    \n",
    "\n",
    "# Define model\n",
    "model = XGBClassifier(verbosity = 0)\n",
    "\n",
    "# Fit model\n",
    "model.fit(X_train, y_train)\n",
    "\n",
    "# Get predicted probabilities and class\n",
    "y_probs = model.predict_proba(X_test)[:,1]\n",
    "y_pred = y_probs > 0.5\n",
    "\n",
    "# Show accuracy\n",
    "accuracy = np.mean(y_pred == y_test)\n",
    "print (f'Accuracy: {accuracy}')"
   ]
  },
  {
   "cell_type": "markdown",
   "id": "d1d3cd34-8ff5-43d4-9971-03413d007fbe",
   "metadata": {},
   "source": [
    "### Pass 10k cohort through all hospital models and get thrombolysis rate"
   ]
  },
  {
   "cell_type": "code",
   "execution_count": 17,
   "id": "8796bb26-597f-4ec0-9df4-7149332eda4b",
   "metadata": {},
   "outputs": [],
   "source": [
    "hospitals = set(train['StrokeTeam'])\n",
    "thrombolysis_rate = []\n",
    "\n",
    "for hospital in hospitals:\n",
    "    \n",
    "    # Get test data without thrombolysis hospital or stroke team\n",
    "    X_test_no_hosp = test.drop(['S2Thrombolysis', 'StrokeTeam'], axis=1)\n",
    "    \n",
    "    # Copy hospital dataframe and change hospital ID (after setting all to zero)\n",
    "    X_test_adjusted_hospital = X_test_hosp.copy()\n",
    "    X_test_adjusted_hospital.loc[:,:] = 0\n",
    "    team = \"team_\" + hospital\n",
    "    X_test_adjusted_hospital[team] = 1\n",
    "    \n",
    "    X_test_adjusted = pd.concat(\n",
    "        [X_test_no_hosp, X_test_adjusted_hospital], axis=1)\n",
    "    \n",
    "    # Get predicted probabilities and class\n",
    "    y_probs = model.predict_proba(X_test_adjusted)[:,1]\n",
    "    y_pred = y_probs > 0.5\n",
    "    thrombolysis_rate.append(y_pred.mean())\n",
    "    \n",
    "xgb_single = thrombolysis_rate"
   ]
  },
  {
   "cell_type": "markdown",
   "id": "a0a6198e-86b8-4e21-9bda-085241ba5055",
   "metadata": {},
   "source": [
    "### Plot thrombolysis rate of 10K cohort at each hospital"
   ]
  },
  {
   "cell_type": "code",
   "execution_count": 18,
   "id": "7e8d967d-03db-4119-8602-8b3e903e08b3",
   "metadata": {},
   "outputs": [
    {
     "data": {
      "image/png": "[encoded data removed]",
      "text/plain": [
       "<Figure size 432x432 with 1 Axes>"
      ]
     },
     "metadata": {
      "needs_background": "light"
     },
     "output_type": "display_data"
    }
   ],
   "source": [
    "fig = plt.figure(figsize=(6,6))\n",
    "ax = fig.add_subplot()\n",
    "ax.hist(thrombolysis_rate)\n",
    "ax.set_xlabel('Thrombolysis rate')\n",
    "ax.set_ylabel('Count')\n",
    "plt.show()"
   ]
  },
  {
   "cell_type": "markdown",
   "id": "d9965104-a12b-44e1-bbbf-20c81d841004",
   "metadata": {},
   "source": [
    "### Show stats"
   ]
  },
  {
   "cell_type": "code",
   "execution_count": 19,
   "id": "88453597-98c8-44a2-8b51-607817c6a44e",
   "metadata": {},
   "outputs": [
    {
     "name": "stdout",
     "output_type": "stream",
     "text": [
      "Mean: 0.279\n",
      "StDev: 0.050\n"
     ]
    }
   ],
   "source": [
    "mean = np.mean(thrombolysis_rate)\n",
    "stdev = np.std(thrombolysis_rate)\n",
    "\n",
    "print (f'Mean: {mean:0.3f}')\n",
    "print (f'StDev: {stdev:0.3f}')"
   ]
  },
  {
   "cell_type": "markdown",
   "id": "76df4217-668d-49f9-aeb5-f78a731a9b96",
   "metadata": {},
   "source": [
    "## Logistic regression model fitted to each hospital"
   ]
  },
  {
   "cell_type": "code",
   "execution_count": 20,
   "id": "4b0791da",
   "metadata": {},
   "outputs": [
    {
     "name": "stdout",
     "output_type": "stream",
     "text": [
      "132\n",
      "Accuracy: 0.81\n"
     ]
    }
   ],
   "source": [
    "hospitals = set(train['StrokeTeam'])\n",
    "counter = 0\n",
    "models = dict()\n",
    "observed = []\n",
    "predicted = []\n",
    "\n",
    "for hospital in hospitals:\n",
    "    counter += 1\n",
    "    print(f'\\r{counter}', end='') \n",
    "    \n",
    "    # Get hospital data\n",
    "    mask = train['StrokeTeam'] == hospital\n",
    "    X_train_hosp = train[mask].drop(['S2Thrombolysis', 'StrokeTeam'], axis=1)\n",
    "    y_train = train[mask]['S2Thrombolysis']\n",
    "    \n",
    "    mask = test['StrokeTeam'] == hospital\n",
    "    X_test_hosp = test[mask].drop(['S2Thrombolysis', 'StrokeTeam'], axis=1)\n",
    "    y_test = test[mask]['S2Thrombolysis']\n",
    "    \n",
    "    # Define model\n",
    "    model = XGBClassifier(verbosity = 0)\n",
    "\n",
    "    # Fit model\n",
    "    model.fit(X_train_hosp, y_train)\n",
    "    \n",
    "    # Standardise X data\n",
    "    X_train_std, X_test_std = standardise_data(X_train_hosp, X_test_hosp)\n",
    "\n",
    "    # Define model\n",
    "    model = LogisticRegression(solver='lbfgs')\n",
    "\n",
    "    # Fit model\n",
    "    model.fit(X_train_std, y_train)\n",
    "    \n",
    "    # Save to dictionary\n",
    "    models[hospital] = model\n",
    "    \n",
    "    # Get predicted probabilities and class\n",
    "    y_probs = model.predict_proba(X_test_std)[:,1]\n",
    "    y_pred = y_probs > 0.5\n",
    "    \n",
    "    # Store results\n",
    "    observed.extend(y_test.values)\n",
    "    predicted.extend(y_pred * 1)\n",
    "    \n",
    " # Show accuracy\n",
    "accuracy = np.mean(np.array(observed) == np.array(predicted))\n",
    "print (f'\\nAccuracy: {accuracy:0.2f}')"
   ]
  },
  {
   "cell_type": "markdown",
   "id": "1b3c0b4b-cfd5-4791-80ea-2a9ec5186f23",
   "metadata": {},
   "source": [
    "### Pass 10k cohort through all hospital models and get thrombolysis rate"
   ]
  },
  {
   "cell_type": "code",
   "execution_count": 21,
   "id": "575902eb",
   "metadata": {},
   "outputs": [],
   "source": [
    "hospitals = set(train['StrokeTeam'])\n",
    "thrombolysis_rate = []\n",
    "\n",
    "# Get X and y\n",
    "X_train = train.drop(['S2Thrombolysis', 'StrokeTeam'], axis=1)\n",
    "X_test = test.drop(['S2Thrombolysis', 'StrokeTeam'], axis=1)\n",
    "\n",
    "# Standardise X data\n",
    "X_train_std, X_test_std = standardise_data(X_train, X_test)\n",
    "\n",
    "for hospital in hospitals:\n",
    "    \n",
    "    # Get hospital model\n",
    "    model = models[hospital]\n",
    "    \n",
    "    # Get predicted probabilities and class\n",
    "    y_probs = model.predict_proba(X_test_std)[:,1]\n",
    "    y_pred = y_probs > 0.5\n",
    "    thrombolysis_rate.append(y_pred.mean())\n",
    "    \n",
    "lr_multi = thrombolysis_rate"
   ]
  },
  {
   "cell_type": "markdown",
   "id": "783f718f-72b3-447d-a977-3172d94b8c26",
   "metadata": {},
   "source": [
    "### Plot thrombolysis rate of 10K cohort at each hospital"
   ]
  },
  {
   "cell_type": "code",
   "execution_count": 22,
   "id": "b106a5fe",
   "metadata": {},
   "outputs": [
    {
     "data": {
      "image/png": "[encoded data removed]",
      "text/plain": [
       "<Figure size 432x432 with 1 Axes>"
      ]
     },
     "metadata": {
      "needs_background": "light"
     },
     "output_type": "display_data"
    }
   ],
   "source": [
    "fig = plt.figure(figsize=(6,6))\n",
    "ax = fig.add_subplot()\n",
    "ax.hist(thrombolysis_rate)\n",
    "ax.set_xlabel('Thrombolysis rate')\n",
    "ax.set_ylabel('Count')\n",
    "plt.show()"
   ]
  },
  {
   "cell_type": "markdown",
   "id": "02e06a4e-b23a-43d7-b838-758dde6164ab",
   "metadata": {},
   "source": [
    "### Show stats"
   ]
  },
  {
   "cell_type": "code",
   "execution_count": 23,
   "id": "efe38a26-9700-446f-87a3-02753f89a3fa",
   "metadata": {},
   "outputs": [
    {
     "name": "stdout",
     "output_type": "stream",
     "text": [
      "Mean: 0.236\n",
      "StDev: 0.081\n"
     ]
    }
   ],
   "source": [
    "mean = np.mean(thrombolysis_rate)\n",
    "stdev = np.std(thrombolysis_rate)\n",
    "\n",
    "print (f'Mean: {mean:0.3f}')\n",
    "print (f'StDev: {stdev:0.3f}')"
   ]
  },
  {
   "cell_type": "markdown",
   "id": "7226a3d6-5323-4a07-bf87-96cb2f537936",
   "metadata": {},
   "source": [
    "## Single logistic regression model"
   ]
  },
  {
   "cell_type": "markdown",
   "id": "46f4ac58-5f0e-41c9-895a-f59c524f60fb",
   "metadata": {},
   "source": [
    "### Train model"
   ]
  },
  {
   "cell_type": "code",
   "execution_count": 24,
   "id": "a4b9ee5e-0e70-434a-9cab-3f8202ca4d85",
   "metadata": {},
   "outputs": [
    {
     "name": "stdout",
     "output_type": "stream",
     "text": [
      "Accuracy: 0.8262\n"
     ]
    }
   ],
   "source": [
    "# Get X and y\n",
    "X_train = train.drop('S2Thrombolysis', axis=1)\n",
    "X_test = test.drop('S2Thrombolysis', axis=1)\n",
    "y_train = train['S2Thrombolysis']\n",
    "y_test = test['S2Thrombolysis']\n",
    "\n",
    "# One hot encode hospitals\n",
    "X_train_hosp = pd.get_dummies(X_train['StrokeTeam'], prefix = 'team')\n",
    "X_train = pd.concat([X_train, X_train_hosp], axis=1)\n",
    "X_train.drop('StrokeTeam', axis=1, inplace=True)\n",
    "X_test_hosp = pd.get_dummies(X_test['StrokeTeam'], prefix = 'team')\n",
    "X_test = pd.concat([X_test, X_test_hosp], axis=1)\n",
    "X_test.drop('StrokeTeam', axis=1, inplace=True)\n",
    "\n",
    "# Standardise X data\n",
    "X_train_std, X_test_std = standardise_data(X_train, X_test)\n",
    "\n",
    "# Define model\n",
    "model = LogisticRegression(solver='lbfgs')\n",
    "\n",
    "# Fit model\n",
    "model.fit(X_train_std, y_train)\n",
    "\n",
    "# Get predicted probabilities and class\n",
    "y_probs = model.predict_proba(X_test_std)[:,1]\n",
    "y_pred = y_probs > 0.5\n",
    "\n",
    "# Show accuracy\n",
    "accuracy = np.mean(y_pred == y_test)\n",
    "print (f'Accuracy: {accuracy}')"
   ]
  },
  {
   "cell_type": "markdown",
   "id": "fc70755d-a501-4d26-bde7-9de92a51e691",
   "metadata": {},
   "source": [
    "### Pass 10k cohort through all hospital models and get thrombolysis rate"
   ]
  },
  {
   "cell_type": "code",
   "execution_count": 25,
   "id": "5cc3d9a2-74a3-4cc3-babc-042cf52f4aee",
   "metadata": {},
   "outputs": [],
   "source": [
    "hospitals = set(train['StrokeTeam'])\n",
    "thrombolysis_rate = []\n",
    "\n",
    "for hospital in hospitals:\n",
    "    \n",
    "    # Get test data without thrombolysis hospital or stroke team\n",
    "    X_test_no_hosp = test.drop(['S2Thrombolysis', 'StrokeTeam'], axis=1)\n",
    "    \n",
    "    # Copy hospital dataframe and change hospital ID (after setting all to zero)\n",
    "    X_test_adjusted_hospital = X_test_hosp.copy()\n",
    "    X_test_adjusted_hospital.loc[:,:] = 0\n",
    "    team = \"team_\" + hospital\n",
    "    X_test_adjusted_hospital[team] = 1\n",
    "    \n",
    "    X_test_adjusted = pd.concat(\n",
    "        [X_test_no_hosp, X_test_adjusted_hospital], axis=1)\n",
    "    \n",
    "    # Standardised\n",
    "    X_train_std, X_test_std = standardise_data(X_train, X_test_adjusted)\n",
    "    \n",
    "    # Get predicted probabilities and class\n",
    "    y_probs = model.predict_proba(X_test_std)[:,1]\n",
    "    y_pred = y_probs > 0.5\n",
    "    thrombolysis_rate.append(y_pred.mean())\n",
    "    \n",
    "lr_single = thrombolysis_rate"
   ]
  },
  {
   "cell_type": "markdown",
   "id": "b44579d0-6f31-42f1-96eb-19d27a6203e3",
   "metadata": {},
   "source": [
    "### Plot thrombolysis rate of 10K cohort at each hospital"
   ]
  },
  {
   "cell_type": "code",
   "execution_count": 26,
   "id": "f0cfbc37-94ea-4712-b039-a70a93237d38",
   "metadata": {},
   "outputs": [
    {
     "data": {
      "image/png": "[encoded data removed]",
      "text/plain": [
       "<Figure size 432x432 with 1 Axes>"
      ]
     },
     "metadata": {
      "needs_background": "light"
     },
     "output_type": "display_data"
    }
   ],
   "source": [
    "fig = plt.figure(figsize=(6,6))\n",
    "ax = fig.add_subplot()\n",
    "ax.hist(thrombolysis_rate)\n",
    "ax.set_xlabel('Thrombolysis rate')\n",
    "ax.set_ylabel('Count')\n",
    "plt.show()"
   ]
  },
  {
   "cell_type": "markdown",
   "id": "b39c7353-66f3-4d24-b2af-2868384dbf88",
   "metadata": {},
   "source": [
    "### Show stats"
   ]
  },
  {
   "cell_type": "code",
   "execution_count": 27,
   "id": "8b3a36bc-38cb-472c-8aa3-55e5b7080f94",
   "metadata": {},
   "outputs": [
    {
     "name": "stdout",
     "output_type": "stream",
     "text": [
      "Mean: 0.259\n",
      "StDev: 0.085\n"
     ]
    }
   ],
   "source": [
    "mean = np.mean(thrombolysis_rate)\n",
    "stdev = np.std(thrombolysis_rate)\n",
    "\n",
    "print (f'Mean: {mean:0.3f}')\n",
    "print (f'StDev: {stdev:0.3f}')"
   ]
  },
  {
   "cell_type": "markdown",
   "id": "48edeb9d-fccb-468b-880b-06bc4421a7d5",
   "metadata": {},
   "source": [
    "## Show comparisions between models"
   ]
  },
  {
   "cell_type": "code",
   "execution_count": 28,
   "id": "3e7f256a-67ce-43fc-a502-a042d11a3f1d",
   "metadata": {},
   "outputs": [],
   "source": [
    "from sklearn.linear_model import LinearRegression\n",
    "from sklearn import metrics  \n",
    "\n",
    "slr = LinearRegression()\n",
    "\n",
    "def compare(x, y, x_label, y_label):\n",
    "    \n",
    "    x = np.array(x).reshape(-1, 1)\n",
    "    y = np.array(y).reshape(-1, 1)\n",
    "    \n",
    "    slr.fit(x, y)\n",
    "    y_pred = slr.predict(x)\n",
    "    r_square = metrics.r2_score(y, y_pred)\n",
    "    \n",
    "    print(f'R squared {r_square:0.3f}')\n",
    "    \n",
    "    plt.scatter (x, y, c = 'blue')\n",
    "    plt.plot (x, slr.predict(x), color = 'red')\n",
    "    plt.xlabel(x_label)\n",
    "    plt.ylabel(y_label)\n",
    "    plt.xlim(0,0.5)\n",
    "    plt.ylim(0,0.5)\n",
    "    \n",
    "    plt.show()  \n",
    "    "
   ]
  },
  {
   "cell_type": "markdown",
   "id": "d8cb9766-8cdc-4c9b-89d7-26a8260f0411",
   "metadata": {},
   "source": [
    "Compare single vs multi models for each type"
   ]
  },
  {
   "cell_type": "code",
   "execution_count": 29,
   "id": "6d60870b-1fa0-4341-a2a0-63c4e80f108b",
   "metadata": {},
   "outputs": [
    {
     "name": "stdout",
     "output_type": "stream",
     "text": [
      "R squared 0.596\n"
     ]
    },
    {
     "data": {
      "image/png": "[encoded data removed]",
      "text/plain": [
       "<Figure size 432x288 with 1 Axes>"
      ]
     },
     "metadata": {
      "needs_background": "light"
     },
     "output_type": "display_data"
    }
   ],
   "source": [
    "compare(rf_single, rf_multi, 'Random forest single model', 'Random forest multiple models')"
   ]
  },
  {
   "cell_type": "code",
   "execution_count": 30,
   "id": "497b0a30-0170-4547-a19b-a739ed95f7a3",
   "metadata": {},
   "outputs": [
    {
     "name": "stdout",
     "output_type": "stream",
     "text": [
      "R squared 0.823\n"
     ]
    },
    {
     "data": {
      "image/png": "[encoded data removed]",
      "text/plain": [
       "<Figure size 432x288 with 1 Axes>"
      ]
     },
     "metadata": {
      "needs_background": "light"
     },
     "output_type": "display_data"
    }
   ],
   "source": [
    "compare(xgb_single, xgb_multi, 'XG Boost single model', 'XG Boost multiple models')"
   ]
  },
  {
   "cell_type": "code",
   "execution_count": 31,
   "id": "31683c26-5c75-4ddc-99bf-8e7f814daa73",
   "metadata": {},
   "outputs": [
    {
     "name": "stdout",
     "output_type": "stream",
     "text": [
      "R squared 0.465\n"
     ]
    },
    {
     "data": {
      "image/png": "[encoded data removed]",
      "text/plain": [
       "<Figure size 432x288 with 1 Axes>"
      ]
     },
     "metadata": {
      "needs_background": "light"
     },
     "output_type": "display_data"
    }
   ],
   "source": [
    "compare(lr_single, lr_multi, 'Logistic regression single model', 'Logistic regression multiple models')"
   ]
  },
  {
   "cell_type": "markdown",
   "id": "70c05508-dd9e-4921-8ea8-ca54a3cb702b",
   "metadata": {},
   "source": [
    "Compare single fit models"
   ]
  },
  {
   "cell_type": "code",
   "execution_count": 32,
   "id": "9e2ea16e-bc4a-46ed-b19e-01011548bc27",
   "metadata": {},
   "outputs": [
    {
     "name": "stdout",
     "output_type": "stream",
     "text": [
      "R squared 0.726\n"
     ]
    },
    {
     "data": {
      "image/png": "[encoded data removed]",
      "text/plain": [
       "<Figure size 432x288 with 1 Axes>"
      ]
     },
     "metadata": {
      "needs_background": "light"
     },
     "output_type": "display_data"
    }
   ],
   "source": [
    "compare(lr_single, rf_single, 'Logistic regression single model', 'Random forest single model')"
   ]
  },
  {
   "cell_type": "code",
   "execution_count": 33,
   "id": "1fa7fa1b-77d3-4797-83e3-fed3408f2e74",
   "metadata": {},
   "outputs": [
    {
     "name": "stdout",
     "output_type": "stream",
     "text": [
      "R squared 0.868\n"
     ]
    },
    {
     "data": {
      "image/png": "[encoded data removed]",
      "text/plain": [
       "<Figure size 432x288 with 1 Axes>"
      ]
     },
     "metadata": {
      "needs_background": "light"
     },
     "output_type": "display_data"
    }
   ],
   "source": [
    "compare(lr_single, xgb_single, 'Logistic regression single model', 'XG Boost single model')"
   ]
  },
  {
   "cell_type": "code",
   "execution_count": 34,
   "id": "cd68511c-2b07-4037-9c4c-bd6fd33e159b",
   "metadata": {},
   "outputs": [
    {
     "name": "stdout",
     "output_type": "stream",
     "text": [
      "R squared 0.731\n"
     ]
    },
    {
     "data": {
      "image/png": "[encoded data removed]",
      "text/plain": [
       "<Figure size 432x288 with 1 Axes>"
      ]
     },
     "metadata": {
      "needs_background": "light"
     },
     "output_type": "display_data"
    }
   ],
   "source": [
    "compare(rf_single, xgb_single, 'Random forest single model', 'XG Boost single model')"
   ]
  },
  {
   "cell_type": "markdown",
   "id": "1a9abfb8-a8de-43c1-b588-3e050569c298",
   "metadata": {},
   "source": [
    "Compare multi-fit models"
   ]
  },
  {
   "cell_type": "code",
   "execution_count": 35,
   "id": "b9379bc3-3a61-4eb0-ba1b-2b616c2c64a0",
   "metadata": {},
   "outputs": [
    {
     "name": "stdout",
     "output_type": "stream",
     "text": [
      "R squared 0.549\n"
     ]
    },
    {
     "data": {
      "image/png": "[encoded data removed]",
      "text/plain": [
       "<Figure size 432x288 with 1 Axes>"
      ]
     },
     "metadata": {
      "needs_background": "light"
     },
     "output_type": "display_data"
    }
   ],
   "source": [
    "compare(lr_multi, rf_multi, 'Logistic regression multi models', 'Random forest multi models')"
   ]
  },
  {
   "cell_type": "code",
   "execution_count": 36,
   "id": "2314a651-ee83-4d10-9725-eff75a943ab0",
   "metadata": {},
   "outputs": [
    {
     "name": "stdout",
     "output_type": "stream",
     "text": [
      "R squared 0.434\n"
     ]
    },
    {
     "data": {
      "image/png": "[encoded data removed]",
      "text/plain": [
       "<Figure size 432x288 with 1 Axes>"
      ]
     },
     "metadata": {
      "needs_background": "light"
     },
     "output_type": "display_data"
    }
   ],
   "source": [
    "compare(lr_multi, xgb_multi, 'Logistic regression multi models', 'XG Boost multi models')"
   ]
  },
  {
   "cell_type": "code",
   "execution_count": 37,
   "id": "d26def65-4ae6-4455-97e1-c8ec02289ba8",
   "metadata": {},
   "outputs": [
    {
     "name": "stdout",
     "output_type": "stream",
     "text": [
      "R squared 0.895\n"
     ]
    },
    {
     "data": {
      "image/png": "[encoded data removed]",
      "text/plain": [
       "<Figure size 432x288 with 1 Axes>"
      ]
     },
     "metadata": {
      "needs_background": "light"
     },
     "output_type": "display_data"
    }
   ],
   "source": [
    "compare(rf_multi, xgb_multi, 'Random forest multi models', 'XG Boost multi models')"
   ]
  },
  {
   "cell_type": "markdown",
   "id": "98a255f7-ef59-45fe-aa18-54d7d285fe7e",
   "metadata": {},
   "source": [
    "## Observations"
   ]
  },
  {
   "cell_type": "markdown",
   "id": "92516e79-f09b-4479-b8b0-98db5685c0f4",
   "metadata": {},
   "source": [
    "A single fit random forest model loses the influence of hospital attended on thrombolysis rate."
   ]
  }
 ],
 "metadata": {
  "kernelspec": {
   "display_name": "Python 3 (ipykernel)",
   "language": "python",
   "name": "python3"
  },
  "language_info": {
   "codemirror_mode": {
    "name": "ipython",
    "version": 3
   },
   "file_extension": ".py",
   "mimetype": "text/x-python",
   "name": "python",
   "nbconvert_exporter": "python",
   "pygments_lexer": "ipython3",
   "version": "3.8.13"
  }
 },
 "nbformat": 4,
 "nbformat_minor": 5
}
