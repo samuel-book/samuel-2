{
 "cells": [
  {
   "cell_type": "markdown",
   "id": "e28d7344-7e4a-4a28-bf35-a86211b7bf7f",
   "metadata": {},
   "source": [
    "# A comparison of 10K corhort thrombolysis decisions across single and multiple XG Boost models\n",
    "\n",
    "Here we train XG Boost models either by training independent models for each hospital, or by one-coding hospitals and training a single model.\n",
    "\n",
    "The use of thrombolysis in an independent 10K corhort may then be predicted at each hospital by either selecting the individual hospital model for that hospital, or by changing the one-hot encoding to mimic all those 10K patients attending each hospital."
   ]
  },
  {
   "cell_type": "markdown",
   "id": "cad56ee2-06be-433d-b5f6-49639e8dbafb",
   "metadata": {},
   "source": [
    "## Import libraries"
   ]
  },
  {
   "cell_type": "code",
   "execution_count": 1,
   "id": "6daa1e72-cd0b-4035-be66-43a234ddca8a",
   "metadata": {},
   "outputs": [],
   "source": [
    "# Turn warnings off to keep notebook tidy\n",
    "import warnings\n",
    "warnings.filterwarnings(\"ignore\")\n",
    "\n",
    "import os\n",
    "import pandas as pd\n",
    "import numpy as np\n",
    "import pickle as pkl\n",
    "import matplotlib.pyplot as plt\n",
    "\n",
    "from sklearn.metrics import auc\n",
    "from sklearn.metrics import roc_curve\n",
    "\n",
    "from xgboost import XGBClassifier"
   ]
  },
  {
   "cell_type": "markdown",
   "id": "94556518-b8e0-4f97-b3bf-57bcea8e391a",
   "metadata": {},
   "source": [
    "## Load data"
   ]
  },
  {
   "cell_type": "code",
   "execution_count": 2,
   "id": "094e69f6-3897-4da4-a838-fabe0b9baaa4",
   "metadata": {},
   "outputs": [],
   "source": [
    "data_loc = '../../data/sam_1/10k_training_test/'\n",
    "\n",
    "train = pd.read_csv(data_loc + 'cohort_10000_train.csv')\n",
    "test = pd.read_csv(data_loc + 'cohort_10000_test.csv')"
   ]
  },
  {
   "cell_type": "markdown",
   "id": "e54cd8a5-f6ca-4b6c-955b-ad53e5b6bc2e",
   "metadata": {},
   "source": [
    "### XG Boost model fitted to each hospital"
   ]
  },
  {
   "cell_type": "code",
   "execution_count": 3,
   "id": "918e820a",
   "metadata": {},
   "outputs": [
    {
     "name": "stdout",
     "output_type": "stream",
     "text": [
      "132\n",
      "Accuracy: 0.83\n"
     ]
    }
   ],
   "source": [
    "hospitals = set(train['StrokeTeam'])\n",
    "counter = 0\n",
    "models = dict()\n",
    "observed = []\n",
    "predicted = []\n",
    "\n",
    "for hospital in hospitals:\n",
    "    counter += 1\n",
    "    print(f'\\r{counter}', end='') \n",
    "    \n",
    "    # Get hospital data\n",
    "    mask = train['StrokeTeam'] == hospital\n",
    "    X_train_hosp = train[mask].drop(['S2Thrombolysis', 'StrokeTeam'], axis=1)\n",
    "    y_train = train[mask]['S2Thrombolysis']\n",
    "    \n",
    "    mask = test['StrokeTeam'] == hospital\n",
    "    X_test_hosp = test[mask].drop(['S2Thrombolysis', 'StrokeTeam'], axis=1)\n",
    "    y_test = test[mask]['S2Thrombolysis']\n",
    "    \n",
    "    # Define model\n",
    "    model = XGBClassifier(verbosity = 0)\n",
    "\n",
    "    # Fit model\n",
    "    model.fit(X_train_hosp, y_train)\n",
    "    \n",
    "    # Save to dictionary\n",
    "    models[hospital] = model\n",
    "    \n",
    "    # Get predicted probabilities and class\n",
    "    y_probs = model.predict_proba(X_test_hosp)[:,1]\n",
    "    y_pred = y_probs > 0.5\n",
    "    \n",
    "    # Store results\n",
    "    observed.extend(y_test.values)\n",
    "    predicted.extend(y_pred * 1)\n",
    "    \n",
    " # Show accuracy\n",
    "accuracy = np.mean(np.array(observed) == np.array(predicted))\n",
    "print (f'\\nAccuracy: {accuracy:0.2f}')"
   ]
  },
  {
   "cell_type": "markdown",
   "id": "f0b5c3de-f796-4074-bad6-cb8d5b761e35",
   "metadata": {},
   "source": [
    "### Pass 10k cohort through all hospital models and get thrombolysis rate"
   ]
  },
  {
   "cell_type": "code",
   "execution_count": 4,
   "id": "03415997",
   "metadata": {},
   "outputs": [],
   "source": [
    "hospitals = set(train['StrokeTeam'])\n",
    "thrombolysis_rate = []\n",
    "multi_predictions = []\n",
    "\n",
    "# Get X and y\n",
    "X_train = train.drop(['S2Thrombolysis', 'StrokeTeam'], axis=1)\n",
    "X_test = test.drop(['S2Thrombolysis', 'StrokeTeam'], axis=1)\n",
    "\n",
    "for hospital in hospitals:\n",
    "    \n",
    "    # Get hospital model\n",
    "    model = models[hospital]\n",
    "    \n",
    "    # Get predicted probabilities and class\n",
    "    y_probs = model.predict_proba(X_test)[:,1]\n",
    "    y_pred = y_probs > 0.5\n",
    "    thrombolysis_rate.append(y_pred.mean())\n",
    "    \n",
    "    # Save predictions\n",
    "    multi_predictions.append(y_pred * 1)\n",
    "    \n",
    "xgb_multi = thrombolysis_rate"
   ]
  },
  {
   "cell_type": "markdown",
   "id": "004c9499-cf33-47ad-9a70-19f0987afa8b",
   "metadata": {},
   "source": [
    "### Plot thrombolysis rate of 10K cohort at each hospital"
   ]
  },
  {
   "cell_type": "code",
   "execution_count": 5,
   "id": "b943dba8",
   "metadata": {},
   "outputs": [
    {
     "data": {
      "image/png": "[encoded data removed]",
      "text/plain": [
       "<Figure size 432x432 with 1 Axes>"
      ]
     },
     "metadata": {
      "needs_background": "light"
     },
     "output_type": "display_data"
    }
   ],
   "source": [
    "fig = plt.figure(figsize=(6,6))\n",
    "ax = fig.add_subplot()\n",
    "ax.hist(thrombolysis_rate)\n",
    "ax.set_xlabel('Thrombolysis rate')\n",
    "ax.set_ylabel('Count')\n",
    "plt.show()"
   ]
  },
  {
   "cell_type": "markdown",
   "id": "1d692f74-cefd-452c-be84-45a17dffed2a",
   "metadata": {},
   "source": [
    "### Show stats"
   ]
  },
  {
   "cell_type": "code",
   "execution_count": 6,
   "id": "5a9b3dca-3bee-4fc6-80fc-36d1b9fb5855",
   "metadata": {},
   "outputs": [
    {
     "name": "stdout",
     "output_type": "stream",
     "text": [
      "Mean: 0.257\n",
      "StDev: 0.080\n"
     ]
    }
   ],
   "source": [
    "mean = np.mean(thrombolysis_rate)\n",
    "stdev = np.std(thrombolysis_rate)\n",
    "\n",
    "print (f'Mean: {mean:0.3f}')\n",
    "print (f'StDev: {stdev:0.3f}')"
   ]
  },
  {
   "cell_type": "markdown",
   "id": "4fb4512b-d282-4874-bfcc-67d0aed4b472",
   "metadata": {},
   "source": [
    "## Single XG Boost Model\n",
    "\n",
    "### Train model"
   ]
  },
  {
   "cell_type": "code",
   "execution_count": null,
   "id": "41f585ce-8199-4523-a9bc-47c6e259b64d",
   "metadata": {},
   "outputs": [],
   "source": [
    "# Get X and y\n",
    "X_train = train.drop('S2Thrombolysis', axis=1)\n",
    "X_test = test.drop('S2Thrombolysis', axis=1)\n",
    "y_train = train['S2Thrombolysis']\n",
    "y_test = test['S2Thrombolysis']\n",
    "\n",
    "# One hot encode hospitals\n",
    "X_train_hosp = pd.get_dummies(X_train['StrokeTeam'], prefix = 'team')\n",
    "X_train = pd.concat([X_train, X_train_hosp], axis=1)\n",
    "X_train.drop('StrokeTeam', axis=1, inplace=True)\n",
    "X_test_hosp = pd.get_dummies(X_test['StrokeTeam'], prefix = 'team')\n",
    "X_test = pd.concat([X_test, X_test_hosp], axis=1)\n",
    "X_test.drop('StrokeTeam', axis=1, inplace=True)    \n",
    "\n",
    "# Define model\n",
    "model = XGBClassifier(verbosity = 0)\n",
    "\n",
    "# Fit model\n",
    "model.fit(X_train, y_train)\n",
    "\n",
    "# Get predicted probabilities and class\n",
    "y_probs = model.predict_proba(X_test)[:,1]\n",
    "y_pred = y_probs > 0.5\n",
    "\n",
    "# Show accuracy\n",
    "accuracy = np.mean(y_pred == y_test)\n",
    "print (f'Accuracy: {accuracy}')"
   ]
  },
  {
   "cell_type": "markdown",
   "id": "1c40bdb5-b75f-4522-86ec-e08406d36d15",
   "metadata": {},
   "source": [
    "### Pass 10k cohort through all hospital models and get thrombolysis rate"
   ]
  },
  {
   "cell_type": "code",
   "execution_count": null,
   "id": "8796bb26-597f-4ec0-9df4-7149332eda4b",
   "metadata": {},
   "outputs": [],
   "source": [
    "hospitals = set(train['StrokeTeam'])\n",
    "thrombolysis_rate = []\n",
    "single_predictions = []\n",
    "\n",
    "for hospital in hospitals:\n",
    "    \n",
    "    # Get test data without thrombolysis hospital or stroke team\n",
    "    X_test_no_hosp = test.drop(['S2Thrombolysis', 'StrokeTeam'], axis=1)\n",
    "    \n",
    "    # Copy hospital dataframe and change hospital ID (after setting all to zero)\n",
    "    X_test_adjusted_hospital = X_test_hosp.copy()\n",
    "    X_test_adjusted_hospital.loc[:,:] = 0\n",
    "    team = \"team_\" + hospital\n",
    "    X_test_adjusted_hospital[team] = 1\n",
    "    \n",
    "    X_test_adjusted = pd.concat(\n",
    "        [X_test_no_hosp, X_test_adjusted_hospital], axis=1)\n",
    "    \n",
    "    # Get predicted probabilities and class\n",
    "    y_probs = model.predict_proba(X_test_adjusted)[:,1]\n",
    "    y_pred = y_probs > 0.5\n",
    "    single_predictions.append(y_pred * 1)\n",
    "    thrombolysis_rate.append(y_pred.mean())\n",
    "    \n",
    "xgb_single = thrombolysis_rate"
   ]
  },
  {
   "cell_type": "markdown",
   "id": "a0a6198e-86b8-4e21-9bda-085241ba5055",
   "metadata": {},
   "source": [
    "### Plot thrombolysis rate of 10K cohort at each hospital"
   ]
  },
  {
   "cell_type": "code",
   "execution_count": null,
   "id": "7e8d967d-03db-4119-8602-8b3e903e08b3",
   "metadata": {},
   "outputs": [],
   "source": [
    "fig = plt.figure(figsize=(6,6))\n",
    "ax = fig.add_subplot()\n",
    "ax.hist(thrombolysis_rate)\n",
    "ax.set_xlabel('Thrombolysis rate')\n",
    "ax.set_ylabel('Count')\n",
    "plt.show()"
   ]
  },
  {
   "cell_type": "markdown",
   "id": "d9965104-a12b-44e1-bbbf-20c81d841004",
   "metadata": {},
   "source": [
    "### Show stats"
   ]
  },
  {
   "cell_type": "code",
   "execution_count": null,
   "id": "88453597-98c8-44a2-8b51-607817c6a44e",
   "metadata": {},
   "outputs": [],
   "source": [
    "mean = np.mean(thrombolysis_rate)\n",
    "stdev = np.std(thrombolysis_rate)\n",
    "\n",
    "print (f'Mean: {mean:0.3f}')\n",
    "print (f'StDev: {stdev:0.3f}')"
   ]
  },
  {
   "cell_type": "markdown",
   "id": "9d87389f-fe01-41b8-8ac7-435c42ac23eb",
   "metadata": {},
   "source": [
    "## Show comparisions between models"
   ]
  },
  {
   "cell_type": "code",
   "execution_count": null,
   "id": "3e7f256a-67ce-43fc-a502-a042d11a3f1d",
   "metadata": {},
   "outputs": [],
   "source": [
    "from sklearn.linear_model import LinearRegression\n",
    "from sklearn import metrics  \n",
    "\n",
    "slr = LinearRegression()\n",
    "\n",
    "def compare(x, y, x_label, y_label):\n",
    "    \n",
    "    x = np.array(x).reshape(-1, 1)\n",
    "    y = np.array(y).reshape(-1, 1)\n",
    "    \n",
    "    slr.fit(x, y)\n",
    "    y_pred = slr.predict(x)\n",
    "    r_square = metrics.r2_score(y, y_pred)\n",
    "    \n",
    "    print(f'R squared {r_square:0.3f}')\n",
    "    \n",
    "    plt.scatter (x, y, c = 'blue')\n",
    "    plt.plot (x, slr.predict(x), color = 'red')\n",
    "    plt.xlabel(x_label)\n",
    "    plt.ylabel(y_label)\n",
    "    plt.xlim(0,0.5)\n",
    "    plt.ylim(0,0.5)\n",
    "    \n",
    "    plt.show()  \n",
    "    "
   ]
  },
  {
   "cell_type": "code",
   "execution_count": null,
   "id": "80519cd6-326b-48ba-8137-a65b6eba035e",
   "metadata": {},
   "outputs": [],
   "source": [
    "compare(xgb_single, xgb_multi, 'XG Boost single model', 'XG Boost multiple models')"
   ]
  },
  {
   "cell_type": "markdown",
   "id": "cd444b46-d87f-4239-a4e4-06c3d8c4f937",
   "metadata": {},
   "source": [
    "## Test simillarity between all individual predictions"
   ]
  },
  {
   "cell_type": "code",
   "execution_count": null,
   "id": "648fa718-5510-49e5-bef8-5e7620a97a21",
   "metadata": {},
   "outputs": [],
   "source": [
    "same_predictions = np.array(single_predictions) == np.array(multi_predictions)\n",
    "result = same_predictions.mean()\n",
    "print (f'Proportion predictions the same: {result:0.3f}')"
   ]
  }
 ],
 "metadata": {
  "kernelspec": {
   "display_name": "Python 3 (ipykernel)",
   "language": "python",
   "name": "python3"
  },
  "language_info": {
   "codemirror_mode": {
    "name": "ipython",
    "version": 3
   },
   "file_extension": ".py",
   "mimetype": "text/x-python",
   "name": "python",
   "nbconvert_exporter": "python",
   "pygments_lexer": "ipython3",
   "version": "3.8.13"
  }
 },
 "nbformat": 4,
 "nbformat_minor": 5
}
